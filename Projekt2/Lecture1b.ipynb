{
 "cells": [
  {
   "cell_type": "code",
   "execution_count": 3,
   "metadata": {
    "colab": {
     "base_uri": "https://localhost:8080/",
     "height": 34
    },
    "colab_type": "code",
    "executionInfo": {
     "elapsed": 699,
     "status": "ok",
     "timestamp": 1583345230398,
     "user": {
      "displayName": "Zbisław Tabor",
      "photoUrl": "https://lh3.googleusercontent.com/a-/AOh14GihHgliefc3mumKqaCxhwnyI891sHQDAZ2h7sAhfw=s64",
      "userId": "16921256151317999512"
     },
     "user_tz": -60
    },
    "id": "AKVMmitusp3-",
    "outputId": "7ab73ae6-8047-4b65-8880-8bfefd9fabbc"
   },
   "outputs": [
    {
     "data": {
      "text/plain": [
       "'2.2.5'"
      ]
     },
     "execution_count": 3,
     "metadata": {
      "tags": []
     },
     "output_type": "execute_result"
    }
   ],
   "source": [
    "import keras\n",
    "import cv2\n",
    "import numpy as np\n",
    "import matplotlib.pyplot as plt\n",
    "\n",
    "keras.__version__"
   ]
  },
  {
   "cell_type": "code",
   "execution_count": null,
   "metadata": {
    "colab": {},
    "colab_type": "code",
    "id": "rXJ9hu9Ys0KH"
   },
   "outputs": [],
   "source": [
    "## [deskew]\n",
    "SZ=28\n",
    "affine_flags = cv2.WARP_INVERSE_MAP|cv2.INTER_LINEAR\n",
    "\n",
    "def deskew(img):\n",
    "    m = cv2.moments(img)\n",
    "    if abs(m['mu02']) < 1e-2:\n",
    "        return img.copy()\n",
    "    skew = m['mu11']/m['mu02']\n",
    "    M = np.float32([[1, skew, -0.5*SZ*skew], [0, 1, 0]])\n",
    "    img = cv2.warpAffine(img,M,(SZ, SZ),flags=affine_flags)\n",
    "    return img\n",
    "## [deskew]\n",
    "\n",
    "def showOpencvImage(image, isGray=False):\n",
    "    fig = plt.figure(figsize=(6, 6))\n",
    "    plt.imshow(image, cmap = 'gray')\n",
    "    plt.show()"
   ]
  },
  {
   "cell_type": "markdown",
   "metadata": {
    "colab_type": "text",
    "id": "7rM-uqghs4zm"
   },
   "source": [
    "# A first look at a neural network\n",
    "\n",
    "We will now take a look at a first concrete example of a neural network, which makes use of the Python library Keras to learn to classify \n",
    "hand-written digits. Unless you already have experience with Keras or similar libraries, you will not understand everything about this \n",
    "first example right away. You probably haven't even installed Keras yet. Don't worry, that is perfectly fine. In the next chapter, we will \n",
    "review each element in our example and explain them in detail. So don't worry if some steps seem arbitrary or look like magic to you! \n",
    "We've got to start somewhere.\n"
   ]
  },
  {
   "cell_type": "code",
   "execution_count": 7,
   "metadata": {
    "colab": {
     "base_uri": "https://localhost:8080/",
     "height": 496
    },
    "colab_type": "code",
    "executionInfo": {
     "elapsed": 1182,
     "status": "ok",
     "timestamp": 1583345424532,
     "user": {
      "displayName": "Zbisław Tabor",
      "photoUrl": "https://lh3.googleusercontent.com/a-/AOh14GihHgliefc3mumKqaCxhwnyI891sHQDAZ2h7sAhfw=s64",
      "userId": "16921256151317999512"
     },
     "user_tz": -60
    },
    "id": "HEr37-VtuwKd",
    "outputId": "9ff36ddf-9252-4266-c56d-4a43f7f6647a"
   },
   "outputs": [
    {
     "name": "stdout",
     "output_type": "stream",
     "text": [
      "(60000, 28, 28)\n",
      "255\n",
      "0\n"
     ]
    },
    {
     "data": {
      "image/png": "[encoded data removed]",
      "text/plain": [
       "<Figure size 432x432 with 1 Axes>"
      ]
     },
     "metadata": {
      "tags": []
     },
     "output_type": "display_data"
    },
    {
     "name": "stdout",
     "output_type": "stream",
     "text": [
      "60000\n",
      "[5 0 4 ... 5 6 8]\n",
      "(10000, 28, 28)\n",
      "[7 2 1 ... 4 5 6]\n"
     ]
    }
   ],
   "source": [
    "from keras.datasets import mnist\n",
    "\n",
    "(train_images, train_labels), (test_images, test_labels) = mnist.load_data()\n",
    "\n",
    "print(train_images.shape)\n",
    "\n",
    "print(np.max(train_images[1]))\n",
    "print(np.min(train_images[1]))\n",
    "\n",
    "showOpencvImage(train_images[1])\n",
    "\n",
    "print(len(train_labels))\n",
    "\n",
    "print(train_labels)\n",
    "\n",
    "print(test_images.shape)\n",
    "\n",
    "print(test_labels)"
   ]
  },
  {
   "cell_type": "code",
   "execution_count": 8,
   "metadata": {
    "colab": {
     "base_uri": "https://localhost:8080/",
     "height": 391
    },
    "colab_type": "code",
    "executionInfo": {
     "elapsed": 2372,
     "status": "ok",
     "timestamp": 1583345461701,
     "user": {
      "displayName": "Zbisław Tabor",
      "photoUrl": "https://lh3.googleusercontent.com/a-/AOh14GihHgliefc3mumKqaCxhwnyI891sHQDAZ2h7sAhfw=s64",
      "userId": "16921256151317999512"
     },
     "user_tz": -60
    },
    "id": "NqjtQ8l-vkew",
    "outputId": "7f5c5a3d-8061-48fc-f8c0-be7ef7dc963b"
   },
   "outputs": [
    {
     "name": "stdout",
     "output_type": "stream",
     "text": [
      "70000\n"
     ]
    },
    {
     "data": {
      "image/png": "[encoded data removed]",
      "text/plain": [
       "<Figure size 432x432 with 1 Axes>"
      ]
     },
     "metadata": {
      "tags": []
     },
     "output_type": "display_data"
    }
   ],
   "source": [
    "\n",
    "im_list = [train_images[i] for i in range(0,train_images.shape[0])] + [test_images[i] for i in range(0,test_images.shape[0])]\n",
    "print(len(im_list))\n",
    "train_deskewed = [deskew(im) for im in im_list[0:train_images.shape[0]]]\n",
    "test_deskewed = [deskew(im) for im in im_list[train_images.shape[0]:]]\n",
    "\n",
    "showOpencvImage(train_deskewed[1])"
   ]
  },
  {
   "cell_type": "markdown",
   "metadata": {
    "colab_type": "text",
    "id": "Yr_UDUypvsQm"
   },
   "source": [
    "Our workflow will be as follow: first we will present our neural network with the training data, `train_images` and `train_labels`. The \n",
    "network will then learn to associate images and labels. Finally, we will ask the network to produce predictions for `test_images`, and we \n",
    "will verify if these predictions match the labels from `test_labels`.\n",
    "\n",
    "Let's build our network -- again, remember that you aren't supposed to understand everything about this example just yet."
   ]
  },
  {
   "cell_type": "code",
   "execution_count": 9,
   "metadata": {
    "colab": {
     "base_uri": "https://localhost:8080/",
     "height": 121
    },
    "colab_type": "code",
    "executionInfo": {
     "elapsed": 651,
     "status": "ok",
     "timestamp": 1583345501308,
     "user": {
      "displayName": "Zbisław Tabor",
      "photoUrl": "https://lh3.googleusercontent.com/a-/AOh14GihHgliefc3mumKqaCxhwnyI891sHQDAZ2h7sAhfw=s64",
      "userId": "16921256151317999512"
     },
     "user_tz": -60
    },
    "id": "hkCp9aOJvnt4",
    "outputId": "f5ec795c-c94d-4076-a528-a6b147909f96"
   },
   "outputs": [
    {
     "name": "stdout",
     "output_type": "stream",
     "text": [
      "WARNING:tensorflow:From /usr/local/lib/python3.6/dist-packages/keras/backend/tensorflow_backend.py:66: The name tf.get_default_graph is deprecated. Please use tf.compat.v1.get_default_graph instead.\n",
      "\n",
      "WARNING:tensorflow:From /usr/local/lib/python3.6/dist-packages/keras/backend/tensorflow_backend.py:541: The name tf.placeholder is deprecated. Please use tf.compat.v1.placeholder instead.\n",
      "\n",
      "WARNING:tensorflow:From /usr/local/lib/python3.6/dist-packages/keras/backend/tensorflow_backend.py:4432: The name tf.random_uniform is deprecated. Please use tf.random.uniform instead.\n",
      "\n"
     ]
    }
   ],
   "source": [
    "from keras import models\n",
    "from keras import layers\n",
    "\n",
    "network = models.Sequential()\n",
    "network.add(layers.Dense(512, activation='relu', input_shape=(28 * 28,)))\n",
    "network.add(layers.Dense(10, activation='softmax'))"
   ]
  },
  {
   "cell_type": "markdown",
   "metadata": {
    "colab_type": "text",
    "id": "bhzvDP5-v0RN"
   },
   "source": [
    "\n",
    "The core building block of neural networks is the \"layer\", a data-processing module which you can conceive as a \"filter\" for data. Some \n",
    "data comes in, and comes out in a more useful form. Precisely, layers extract _representations_ out of the data fed into them -- hopefully \n",
    "representations that are more meaningful for the problem at hand. Most of deep learning really consists of chaining together simple layers \n",
    "which will implement a form of progressive \"data distillation\". A deep learning model is like a sieve for data processing, made of a \n",
    "succession of increasingly refined data filters -- the \"layers\".\n",
    "\n",
    "Here our network consists of a sequence of two `Dense` layers, which are densely-connected (also called \"fully-connected\") neural layers. \n",
    "The second (and last) layer is a 10-way \"softmax\" layer, which means it will return an array of 10 probability scores (summing to 1). Each \n",
    "score will be the probability that the current digit image belongs to one of our 10 digit classes.\n",
    "\n",
    "To make our network ready for training, we need to pick three more things, as part of \"compilation\" step:\n",
    "\n",
    "* A loss function: the is how the network will be able to measure how good a job it is doing on its training data, and thus how it will be \n",
    "able to steer itself in the right direction.\n",
    "* An optimizer: this is the mechanism through which the network will update itself based on the data it sees and its loss function.\n",
    "* Metrics to monitor during training and testing. Here we will only care about accuracy (the fraction of the images that were correctly \n",
    "classified)."
   ]
  },
  {
   "cell_type": "code",
   "execution_count": 10,
   "metadata": {
    "colab": {
     "base_uri": "https://localhost:8080/",
     "height": 86
    },
    "colab_type": "code",
    "executionInfo": {
     "elapsed": 669,
     "status": "ok",
     "timestamp": 1583345564055,
     "user": {
      "displayName": "Zbisław Tabor",
      "photoUrl": "https://lh3.googleusercontent.com/a-/AOh14GihHgliefc3mumKqaCxhwnyI891sHQDAZ2h7sAhfw=s64",
      "userId": "16921256151317999512"
     },
     "user_tz": -60
    },
    "id": "LdCJJMXav-hx",
    "outputId": "1bc8ab68-fbc8-40e5-a8da-a181a0a4a88c"
   },
   "outputs": [
    {
     "name": "stdout",
     "output_type": "stream",
     "text": [
      "WARNING:tensorflow:From /usr/local/lib/python3.6/dist-packages/keras/optimizers.py:793: The name tf.train.Optimizer is deprecated. Please use tf.compat.v1.train.Optimizer instead.\n",
      "\n",
      "WARNING:tensorflow:From /usr/local/lib/python3.6/dist-packages/keras/backend/tensorflow_backend.py:3576: The name tf.log is deprecated. Please use tf.math.log instead.\n",
      "\n"
     ]
    }
   ],
   "source": [
    "network.compile(optimizer='rmsprop',\n",
    "                loss='categorical_crossentropy',\n",
    "                metrics=['accuracy'])"
   ]
  },
  {
   "cell_type": "markdown",
   "metadata": {
    "colab_type": "text",
    "id": "RY59BbtZwDFG"
   },
   "source": [
    "\n",
    "Before training, we will preprocess our data by reshaping it into the shape that the network expects, and scaling it so that all values are in \n",
    "the `[0, 1]` interval. Previously, our training images for instance were stored in an array of shape `(60000, 28, 28)` of type `uint8` with \n",
    "values in the `[0, 255]` interval. We transform it into a `float32` array of shape `(60000, 28 * 28)` with values between 0 and 1."
   ]
  },
  {
   "cell_type": "code",
   "execution_count": null,
   "metadata": {
    "colab": {},
    "colab_type": "code",
    "id": "YMu3qDVowI9N"
   },
   "outputs": [],
   "source": [
    "train_images = train_images.reshape((60000, 28 * 28))\n",
    "train_images = train_images.astype('float32') / 255\n",
    "\n",
    "test_images = test_images.reshape((10000, 28 * 28))\n",
    "test_images = test_images.astype('float32') / 255"
   ]
  },
  {
   "cell_type": "markdown",
   "metadata": {
    "colab_type": "text",
    "id": "XmEiBJ-zwKcl"
   },
   "source": [
    "**We also need to categorically encode the labels**"
   ]
  },
  {
   "cell_type": "code",
   "execution_count": 12,
   "metadata": {
    "colab": {
     "base_uri": "https://localhost:8080/",
     "height": 139
    },
    "colab_type": "code",
    "executionInfo": {
     "elapsed": 647,
     "status": "ok",
     "timestamp": 1583345660669,
     "user": {
      "displayName": "Zbisław Tabor",
      "photoUrl": "https://lh3.googleusercontent.com/a-/AOh14GihHgliefc3mumKqaCxhwnyI891sHQDAZ2h7sAhfw=s64",
      "userId": "16921256151317999512"
     },
     "user_tz": -60
    },
    "id": "0R9xyQLUwQMT",
    "outputId": "e27eeada-f4bf-4523-f09a-360f32319768"
   },
   "outputs": [
    {
     "data": {
      "text/plain": [
       "array([[0., 0., 0., ..., 1., 0., 0.],\n",
       "       [0., 0., 1., ..., 0., 0., 0.],\n",
       "       [0., 1., 0., ..., 0., 0., 0.],\n",
       "       ...,\n",
       "       [0., 0., 0., ..., 0., 0., 0.],\n",
       "       [0., 0., 0., ..., 0., 0., 0.],\n",
       "       [0., 0., 0., ..., 0., 0., 0.]], dtype=float32)"
      ]
     },
     "execution_count": 12,
     "metadata": {
      "tags": []
     },
     "output_type": "execute_result"
    }
   ],
   "source": [
    "from keras.utils import to_categorical\n",
    "\n",
    "encoded_train_labels = to_categorical(train_labels)\n",
    "encoded_test_labels = to_categorical(test_labels)\n",
    "\n",
    "encoded_test_labels"
   ]
  },
  {
   "cell_type": "markdown",
   "metadata": {
    "colab_type": "text",
    "id": "OpxxZcmSwant"
   },
   "source": [
    "We are now ready to train our network, which in Keras is done via a call to the `fit` method of the network: \n",
    "we \"fit\" the model to its training data."
   ]
  },
  {
   "cell_type": "code",
   "execution_count": 14,
   "metadata": {
    "colab": {
     "base_uri": "https://localhost:8080/",
     "height": 538
    },
    "colab_type": "code",
    "executionInfo": {
     "elapsed": 26048,
     "status": "ok",
     "timestamp": 1583345732897,
     "user": {
      "displayName": "Zbisław Tabor",
      "photoUrl": "https://lh3.googleusercontent.com/a-/AOh14GihHgliefc3mumKqaCxhwnyI891sHQDAZ2h7sAhfw=s64",
      "userId": "16921256151317999512"
     },
     "user_tz": -60
    },
    "id": "4KBf8JK6wcJ5",
    "outputId": "9f937a53-8a53-46bb-ef5f-c1bbe14c35c8"
   },
   "outputs": [
    {
     "name": "stdout",
     "output_type": "stream",
     "text": [
      "WARNING:tensorflow:From /usr/local/lib/python3.6/dist-packages/tensorflow_core/python/ops/math_grad.py:1424: where (from tensorflow.python.ops.array_ops) is deprecated and will be removed in a future version.\n",
      "Instructions for updating:\n",
      "Use tf.where in 2.0, which has the same broadcast rule as np.where\n",
      "WARNING:tensorflow:From /usr/local/lib/python3.6/dist-packages/keras/backend/tensorflow_backend.py:1033: The name tf.assign_add is deprecated. Please use tf.compat.v1.assign_add instead.\n",
      "\n",
      "WARNING:tensorflow:From /usr/local/lib/python3.6/dist-packages/keras/backend/tensorflow_backend.py:1020: The name tf.assign is deprecated. Please use tf.compat.v1.assign instead.\n",
      "\n",
      "WARNING:tensorflow:From /usr/local/lib/python3.6/dist-packages/keras/backend/tensorflow_backend.py:3005: The name tf.Session is deprecated. Please use tf.compat.v1.Session instead.\n",
      "\n",
      "Epoch 1/5\n",
      "WARNING:tensorflow:From /usr/local/lib/python3.6/dist-packages/keras/backend/tensorflow_backend.py:190: The name tf.get_default_session is deprecated. Please use tf.compat.v1.get_default_session instead.\n",
      "\n",
      "WARNING:tensorflow:From /usr/local/lib/python3.6/dist-packages/keras/backend/tensorflow_backend.py:197: The name tf.ConfigProto is deprecated. Please use tf.compat.v1.ConfigProto instead.\n",
      "\n",
      "WARNING:tensorflow:From /usr/local/lib/python3.6/dist-packages/keras/backend/tensorflow_backend.py:207: The name tf.global_variables is deprecated. Please use tf.compat.v1.global_variables instead.\n",
      "\n",
      "WARNING:tensorflow:From /usr/local/lib/python3.6/dist-packages/keras/backend/tensorflow_backend.py:216: The name tf.is_variable_initialized is deprecated. Please use tf.compat.v1.is_variable_initialized instead.\n",
      "\n",
      "WARNING:tensorflow:From /usr/local/lib/python3.6/dist-packages/keras/backend/tensorflow_backend.py:223: The name tf.variables_initializer is deprecated. Please use tf.compat.v1.variables_initializer instead.\n",
      "\n",
      "60000/60000 [==============================] - 6s 94us/step - loss: 0.2609 - acc: 0.9243\n",
      "Epoch 2/5\n",
      "60000/60000 [==============================] - 5s 81us/step - loss: 0.1083 - acc: 0.9682\n",
      "Epoch 3/5\n",
      "60000/60000 [==============================] - 5s 80us/step - loss: 0.0719 - acc: 0.9783\n",
      "Epoch 4/5\n",
      "60000/60000 [==============================] - 5s 83us/step - loss: 0.0538 - acc: 0.9840\n",
      "Epoch 5/5\n",
      "60000/60000 [==============================] - 5s 82us/step - loss: 0.0409 - acc: 0.9880\n"
     ]
    },
    {
     "data": {
      "text/plain": [
       "<keras.callbacks.History at 0x7f3985523550>"
      ]
     },
     "execution_count": 14,
     "metadata": {
      "tags": []
     },
     "output_type": "execute_result"
    }
   ],
   "source": [
    "network.fit(train_images, encoded_train_labels, epochs=5, batch_size=128)"
   ]
  },
  {
   "cell_type": "markdown",
   "metadata": {
    "colab_type": "text",
    "id": "4SNGWQG9wtRS"
   },
   "source": [
    "Two quantities are being displayed during training: the \"loss\" of the network over the training data, and the accuracy of the network over \n",
    "the training data.\n",
    "\n",
    "We quickly reach an accuracy of 0.989 (i.e. 98.9%) on the training data. Now let's check that our model performs well on the test set too:"
   ]
  },
  {
   "cell_type": "code",
   "execution_count": 16,
   "metadata": {
    "colab": {
     "base_uri": "https://localhost:8080/",
     "height": 52
    },
    "colab_type": "code",
    "executionInfo": {
     "elapsed": 1006,
     "status": "ok",
     "timestamp": 1583345798919,
     "user": {
      "displayName": "Zbisław Tabor",
      "photoUrl": "https://lh3.googleusercontent.com/a-/AOh14GihHgliefc3mumKqaCxhwnyI891sHQDAZ2h7sAhfw=s64",
      "userId": "16921256151317999512"
     },
     "user_tz": -60
    },
    "id": "ld1T-CuXwxsp",
    "outputId": "4794cb8f-a3e9-42ab-f6a3-07dfadc155f3"
   },
   "outputs": [
    {
     "name": "stdout",
     "output_type": "stream",
     "text": [
      "10000/10000 [==============================] - 1s 53us/step\n",
      "test_acc: 0.9779\n"
     ]
    }
   ],
   "source": [
    "test_loss, test_acc = network.evaluate(test_images, encoded_test_labels)\n",
    "print('test_acc:', test_acc)"
   ]
  },
  {
   "cell_type": "markdown",
   "metadata": {
    "colab_type": "text",
    "id": "zeWaW7mZxB2v"
   },
   "source": [
    "Our test set accuracy turns out to be 97.8% -- that's quite a bit lower than the training set accuracy. \n",
    "This gap between training accuracy and test accuracy is an example of \"overfitting\", \n",
    "the fact that machine learning models tend to perform worse on new data than on their training data. \n",
    "Overfitting will be a central topic in chapter 3.\n",
    "\n",
    "This concludes our very first example -- you just saw how we could build and a train a neural network to classify handwritten digits, in \n",
    "less than 20 lines of Python code.\n",
    "\n",
    "Finally let us look at what the network outputs"
   ]
  },
  {
   "cell_type": "code",
   "execution_count": 17,
   "metadata": {
    "colab": {
     "base_uri": "https://localhost:8080/",
     "height": 52
    },
    "colab_type": "code",
    "executionInfo": {
     "elapsed": 897,
     "status": "ok",
     "timestamp": 1583345915326,
     "user": {
      "displayName": "Zbisław Tabor",
      "photoUrl": "https://lh3.googleusercontent.com/a-/AOh14GihHgliefc3mumKqaCxhwnyI891sHQDAZ2h7sAhfw=s64",
      "userId": "16921256151317999512"
     },
     "user_tz": -60
    },
    "id": "lyWS20P-w-ag",
    "outputId": "a771b2d7-73af-49cf-bc71-d93c3a69bbc8"
   },
   "outputs": [
    {
     "name": "stdout",
     "output_type": "stream",
     "text": [
      "[[4.1675505e-10 4.1147680e-12 2.4557676e-07 3.9618626e-06 6.1026298e-14\n",
      "  1.0904273e-09 1.0335507e-16 9.9999583e-01 2.1403472e-09 4.4509086e-08]]\n"
     ]
    }
   ],
   "source": [
    "pred_probabilities = network.predict(test_images)\n",
    "print(pred_probabilities[0:1])"
   ]
  },
  {
   "cell_type": "code",
   "execution_count": 21,
   "metadata": {
    "colab": {
     "base_uri": "https://localhost:8080/",
     "height": 391
    },
    "colab_type": "code",
    "executionInfo": {
     "elapsed": 656,
     "status": "ok",
     "timestamp": 1583346011916,
     "user": {
      "displayName": "Zbisław Tabor",
      "photoUrl": "https://lh3.googleusercontent.com/a-/AOh14GihHgliefc3mumKqaCxhwnyI891sHQDAZ2h7sAhfw=s64",
      "userId": "16921256151317999512"
     },
     "user_tz": -60
    },
    "id": "ItR7eObLxWNa",
    "outputId": "63907e2c-86ff-4096-a8d2-edfee2773711"
   },
   "outputs": [
    {
     "name": "stdout",
     "output_type": "stream",
     "text": [
      "7\n"
     ]
    },
    {
     "data": {
      "image/png": "[encoded data removed]",
      "text/plain": [
       "<Figure size 432x432 with 1 Axes>"
      ]
     },
     "metadata": {
      "tags": []
     },
     "output_type": "display_data"
    }
   ],
   "source": [
    "pred_labels = np.argmax(pred_probabilities,-1)\n",
    "print(pred_labels[0])\n",
    "showOpencvImage(test_images[0].reshape(28,-1))"
   ]
  },
  {
   "cell_type": "code",
   "execution_count": 23,
   "metadata": {
    "colab": {
     "base_uri": "https://localhost:8080/",
     "height": 486
    },
    "colab_type": "code",
    "executionInfo": {
     "elapsed": 733,
     "status": "ok",
     "timestamp": 1583346069550,
     "user": {
      "displayName": "Zbisław Tabor",
      "photoUrl": "https://lh3.googleusercontent.com/a-/AOh14GihHgliefc3mumKqaCxhwnyI891sHQDAZ2h7sAhfw=s64",
      "userId": "16921256151317999512"
     },
     "user_tz": -60
    },
    "id": "ErBFRFA6xu7i",
    "outputId": "d9f3c1a8-4115-426d-c059-8f777bef21d4"
   },
   "outputs": [
    {
     "name": "stdout",
     "output_type": "stream",
     "text": [
      "[[ 971    0    1    0    1    0    2    1    3    1]\n",
      " [   0 1123    4    1    0    1    2    2    2    0]\n",
      " [   3    2 1010    0    2    0    1    6    7    1]\n",
      " [   0    0    3  989    0    2    0    7    3    6]\n",
      " [   1    0    3    0  965    0    2    1    1    9]\n",
      " [   2    0    0    7    2  879    1    0    0    1]\n",
      " [   5    3    3    1    9   19  915    0    3    0]\n",
      " [   1    3    9    3    1    0    0 1005    2    4]\n",
      " [   2    0    5    5    5    8    0    6  936    7]\n",
      " [   3    2    0    3    7    1    0    6    1  986]]\n",
      "              precision    recall  f1-score   support\n",
      "\n",
      "           0       0.98      0.99      0.99       980\n",
      "           1       0.99      0.99      0.99      1135\n",
      "           2       0.97      0.98      0.98      1032\n",
      "           3       0.98      0.98      0.98      1010\n",
      "           4       0.97      0.98      0.98       982\n",
      "           5       0.97      0.99      0.98       892\n",
      "           6       0.99      0.96      0.97       958\n",
      "           7       0.97      0.98      0.97      1028\n",
      "           8       0.98      0.96      0.97       974\n",
      "           9       0.97      0.98      0.97      1009\n",
      "\n",
      "    accuracy                           0.98     10000\n",
      "   macro avg       0.98      0.98      0.98     10000\n",
      "weighted avg       0.98      0.98      0.98     10000\n",
      "\n"
     ]
    }
   ],
   "source": [
    "from sklearn.metrics import classification_report, confusion_matrix\n",
    "\n",
    "cm = confusion_matrix(test_labels, pred_labels)\n",
    "print(cm)\n",
    "print(classification_report(test_labels, pred_labels))\n"
   ]
  }
 ],
 "metadata": {
  "colab": {
   "authorship_tag": "ABX9TyPYrGEYL+lDOGSYSJW8ajan",
   "name": "Lecture1b.ipynb",
   "provenance": []
  },
  "kernelspec": {
   "display_name": "Python 3",
   "language": "python",
   "name": "python3"
  },
  "language_info": {
   "codemirror_mode": {
    "name": "ipython",
    "version": 3
   },
   "file_extension": ".py",
   "mimetype": "text/x-python",
   "name": "python",
   "nbconvert_exporter": "python",
   "pygments_lexer": "ipython3",
   "version": "3.6.9"
  }
 },
 "nbformat": 4,
 "nbformat_minor": 2
}
