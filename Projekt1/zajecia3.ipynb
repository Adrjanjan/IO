{
 "cells": [
  {
   "cell_type": "markdown",
   "metadata": {
    "colab_type": "text",
    "id": "gFHSNZ-iTU2p"
   },
   "source": [
    "# Laboratorium 3: transformacje cech i redukcja wymiarowości\n",
    "\n",
    "W ramach laboratorium omówione zostaną popularne metody transformacji cech próbek oraz redukcji wymiarowości."
   ]
  },
  {
   "cell_type": "code",
   "execution_count": 2,
   "metadata": {
    "colab": {},
    "colab_type": "code",
    "id": "doIptr5uTULW"
   },
   "outputs": [
    {
     "name": "stdout",
     "output_type": "stream",
     "text": [
      ".. _boston_dataset:\n",
      "\n",
      "Boston house prices dataset\n",
      "---------------------------\n",
      "\n",
      "**Data Set Characteristics:**  \n",
      "\n",
      "    :Number of Instances: 506 \n",
      "\n",
      "    :Number of Attributes: 13 numeric/categorical predictive. Median Value (attribute 14) is usually the target.\n",
      "\n",
      "    :Attribute Information (in order):\n",
      "        - CRIM     per capita crime rate by town\n",
      "        - ZN       proportion of residential land zoned for lots over 25,000 sq.ft.\n",
      "        - INDUS    proportion of non-retail business acres per town\n",
      "        - CHAS     Charles River dummy variable (= 1 if tract bounds river; 0 otherwise)\n",
      "        - NOX      nitric oxides concentration (parts per 10 million)\n",
      "        - RM       average number of rooms per dwelling\n",
      "        - AGE      proportion of owner-occupied units built prior to 1940\n",
      "        - DIS      weighted distances to five Boston employment centres\n",
      "        - RAD      index of accessibility to radial highways\n",
      "        - TAX      full-value property-tax rate per $10,000\n",
      "        - PTRATIO  pupil-teacher ratio by town\n",
      "        - B        1000(Bk - 0.63)^2 where Bk is the proportion of blacks by town\n",
      "        - LSTAT    % lower status of the population\n",
      "        - MEDV     Median value of owner-occupied homes in $1000's\n",
      "\n",
      "    :Missing Attribute Values: None\n",
      "\n",
      "    :Creator: Harrison, D. and Rubinfeld, D.L.\n",
      "\n",
      "This is a copy of UCI ML housing dataset.\n",
      "https://archive.ics.uci.edu/ml/machine-learning-databases/housing/\n",
      "\n",
      "\n",
      "This dataset was taken from the StatLib library which is maintained at Carnegie Mellon University.\n",
      "\n",
      "The Boston house-price data of Harrison, D. and Rubinfeld, D.L. 'Hedonic\n",
      "prices and the demand for clean air', J. Environ. Economics & Management,\n",
      "vol.5, 81-102, 1978.   Used in Belsley, Kuh & Welsch, 'Regression diagnostics\n",
      "...', Wiley, 1980.   N.B. Various transformations are used in the table on\n",
      "pages 244-261 of the latter.\n",
      "\n",
      "The Boston house-price data has been used in many machine learning papers that address regression\n",
      "problems.   \n",
      "     \n",
      ".. topic:: References\n",
      "\n",
      "   - Belsley, Kuh & Welsch, 'Regression diagnostics: Identifying Influential Data and Sources of Collinearity', Wiley, 1980. 244-261.\n",
      "   - Quinlan,R. (1993). Combining Instance-Based and Model-Based Learning. In Proceedings on the Tenth International Conference of Machine Learning, 236-243, University of Massachusetts, Amherst. Morgan Kaufmann.\n",
      "\n",
      "boston (shape):  (506, 13)\n",
      "(404, 13)\n"
     ]
    }
   ],
   "source": [
    "from sklearn import datasets\n",
    "from sklearn.model_selection import train_test_split\n",
    "import numpy as np\n",
    "\n",
    "boston = datasets.load_boston()\n",
    "print(boston.DESCR)\n",
    "\n",
    "digits = datasets.load_digits()\n",
    "\n",
    "print(\"boston (shape): \", boston.data.shape)\n",
    "\n",
    "#print(boston.target)\n",
    "\n",
    "# Wycinamy kawałek danych do testów:\n",
    "\n",
    "X_train, X_test, y_train, y_test = train_test_split(\n",
    "    boston.data, boston.target, test_size=0.2, random_state=421, shuffle=True)\n",
    "\n",
    "print(X_train.shape)"
   ]
  },
  {
   "cell_type": "markdown",
   "metadata": {
    "colab_type": "text",
    "id": "t4LmOf37v2hu"
   },
   "source": [
    "## PCA\n",
    "\n",
    "Wykonaj PCA osobno dla poszczególnych klas w zbiorze `digits`. Jaki ułamek wariancji wyjaśnia pierwsza główna składowa?\n",
    "\n",
    "Dla cyfry 2 narysuj kilka elementów przestrzeni własnej. Czy przypominają one tą cyfrę?\n",
    "\n",
    "Ostatni rysunek przestawia współrzędne rzutów na płaszczyznę własną rozpinaną przez dwa pierwsze wektory główne. Pokoloruj znaczniki na rysunku według normy składowej wektora prostopadłej do płaszczyzny własnej."
   ]
  },
  {
   "cell_type": "code",
   "execution_count": 3,
   "metadata": {
    "colab": {},
    "colab_type": "code",
    "id": "MQxwO46lwJB_"
   },
   "outputs": [
    {
     "data": {
      "text/plain": [
       "<Figure size 300x300 with 1 Axes>"
      ]
     },
     "metadata": {},
     "output_type": "display_data"
    },
    {
     "data": {
      "text/plain": [
       "<Figure size 300x300 with 1 Axes>"
      ]
     },
     "metadata": {},
     "output_type": "display_data"
    },
    {
     "name": "stdout",
     "output_type": "stream",
     "text": [
      "explained variance ratio:  0.24668555416902144\n"
     ]
    },
    {
     "data": {
      "text/plain": [
       "<Figure size 1000x1000 with 2 Axes>"
      ]
     },
     "metadata": {},
     "output_type": "display_data"
    }
   ],
   "source": [
    "from sklearn import decomposition\n",
    "import matplotlib.pyplot as plt\n",
    "\n",
    "pca = decomposition.PCA(n_components = 10)\n",
    "# dig_pca = pca.fit()\n",
    "digit_no = 6\n",
    "X = digits.data[digits.target == digit_no,:]\n",
    "\n",
    "def show_digit(dgt):\n",
    "  plt.figure(1, figsize=(3, 3))\n",
    "  plt.imshow(dgt.reshape(8, 8), cmap=plt.cm.gray_r, interpolation='nearest')\n",
    "  plt.show()\n",
    "\n",
    "show_digit(X[1,:])\n",
    "show_digit(X[10,:])\n",
    "\n",
    "dig_pca = pca.fit(X)\n",
    "\n",
    "print(\"explained variance ratio: \", dig_pca.explained_variance_ratio_[0]) # do modyfikacji\n",
    "\n",
    "pcatr = pca.transform(digits.data)\n",
    "zs = np.linalg.norm(digits.data, axis=1) # do modyfikacji\n",
    "\n",
    "plt.figure(2, figsize = (10, 10))\n",
    "other_digits = digits.target != digit_no\n",
    "plt.scatter(pcatr[other_digits,0], pcatr[other_digits,1], c = zs[other_digits])\n",
    "\n",
    "plt.scatter(pcatr[digits.target == digit_no,0], pcatr[digits.target == digit_no,1], c = zs[digits.target == digit_no], marker = 'x')\n",
    "plt.colorbar()\n",
    "plt.show()"
   ]
  },
  {
   "cell_type": "markdown",
   "metadata": {
    "colab_type": "text",
    "id": "m_v_q_-KlfL2"
   },
   "source": [
    "## Nieliniowa redukcja wymiarowości\n",
    "\n",
    "UMAP zakłada, że dane leżą mniej więcej w jednej dwuwymiarowej przestrzeni. Dopasowanie polega na znalezieniu tej przestrzeni, co umożliwia potem na przykład wizualizację danych.\n",
    "\n",
    "Porównaj metrykę _accuracy_ dla klasyfikatora SVC z kernelem RBF przed i po transformacji z użyciem UMAP za pomocą 5-krotnej walidacji krzyżowej."
   ]
  },
  {
   "cell_type": "code",
   "execution_count": 7,
   "metadata": {
    "colab": {},
    "colab_type": "code",
    "id": "q2009N2NlltG"
   },
   "outputs": [
    {
     "data": {
      "image/png": "[encoded data removed]",
      "text/plain": [
       "<Figure size 720x720 with 2 Axes>"
      ]
     },
     "metadata": {},
     "output_type": "display_data"
    }
   ],
   "source": [
    "import umap.umap_ as umap\n",
    "from sklearn.model_selection import KFold\n",
    "from sklearn.svm import SVC\n",
    "from sklearn import metrics\n",
    "\n",
    "reducer = umap.UMAP(random_state=42)\n",
    "\n",
    "def svm_test():\n",
    "  X_train, X_test, y_train, y_test = train_test_split(\n",
    "    digits.data, digits.target, test_size=0.2, random_state=421, shuffle=True)\n",
    "  \n",
    "  reducer.fit(X_train)\n",
    "\n",
    "  embedding = reducer.transform(X_test)\n",
    "\n",
    "  plt.figure(2, (10, 10))\n",
    "  plt.scatter(embedding[:, 0], embedding[:, 1], c=y_test, cmap='Spectral', s=5)\n",
    "  plt.gca().set_aspect('equal', 'datalim')\n",
    "  plt.colorbar(boundaries=np.arange(11)-0.5).set_ticks(np.arange(10))\n",
    "  plt.title('Projekcja UMAP', fontsize=14);\n",
    "\n",
    "svm_test()"
   ]
  },
  {
   "cell_type": "code",
   "execution_count": 9,
   "metadata": {},
   "outputs": [
    {
     "ename": "ValueError",
     "evalue": "Expected 2D array, got 1D array instead:\narray=[2. 8. 9. 1. 0. 2. 0. 8. 6. 7. 4. 1. 3. 3. 2. 5. 4. 6. 0. 0. 0. 4. 1. 1.\n 8. 6. 0. 1. 4. 1. 1. 8. 1. 2. 4. 5. 7. 8. 1. 8. 6. 9. 4. 1. 2. 3. 7. 9.\n 0. 8. 4. 2. 8. 5. 7. 1. 4. 8. 5. 2. 4. 5. 9. 4. 1. 7. 4. 7. 1. 8. 2. 7.\n 0. 8. 7. 0. 3. 0. 2. 8. 8. 7. 8. 4. 5. 3. 8. 2. 6. 6. 7. 7. 1. 8. 5. 1.\n 0. 1. 2. 9. 5. 6. 8. 5. 0. 1. 4. 6. 8. 2. 5. 4. 4. 3. 2. 3. 7. 8. 1. 6.\n 1. 4. 0. 0. 9. 1. 4. 6. 0. 1. 6. 3. 8. 3. 9. 0. 2. 8. 7. 0. 1. 5. 3. 9.\n 4. 9. 7. 8. 9. 2. 4. 4. 2. 8. 3. 7. 3. 9. 4. 2. 3. 5. 0. 5. 1. 2. 2. 9.\n 5. 9. 9. 3. 3. 9. 7. 4. 1. 5. 8. 2. 1. 6. 7. 7. 4. 7. 2. 6. 7. 4. 6. 8.\n 5. 2. 6. 2. 7. 2. 7. 7. 9. 0. 3. 6. 2. 3. 7. 5. 7. 7. 9. 7. 3. 5. 2. 5.\n 6. 1. 7. 7. 5. 2. 9. 6. 9. 7. 3. 4. 5. 8. 1. 4. 6. 0. 3. 6. 4. 8. 3. 4.\n 3. 5. 3. 0. 7. 8. 5. 7. 0. 7. 6. 6. 4. 0. 2. 3. 2. 6. 8. 6. 0. 0. 8. 1.\n 0. 4. 3. 0. 5. 3. 0. 9. 6. 4. 6. 8. 5. 4. 1. 9. 7. 8. 3. 3. 5. 6. 4. 7.\n 6. 3. 1. 9. 1. 6. 0. 5. 8. 3. 5. 8. 0. 5. 8. 6. 6. 1. 5. 4. 7. 1. 9. 9.\n 7. 5. 9. 8. 0. 4. 2. 6. 9. 0. 6. 1. 9. 0. 2. 9. 3. 0. 4. 4. 0. 2. 8. 3.\n 6. 7. 3. 0. 9. 0. 5. 6. 5. 6. 1. 9. 7. 5. 0. 7. 5. 6. 4. 4. 1. 7. 0. 4.].\nReshape your data either using array.reshape(-1, 1) if your data has a single feature or array.reshape(1, -1) if it contains a single sample.",
     "output_type": "error",
     "traceback": [
      "\u001b[0;31m--------------------------------------------------------------------------\u001b[0m",
      "\u001b[0;31mValueError\u001b[0m                               Traceback (most recent call last)",
      "\u001b[0;32m<ipython-input-9-6db277a702e9>\u001b[0m in \u001b[0;36m<module>\u001b[0;34m()\u001b[0m\n\u001b[1;32m     26\u001b[0m   \u001b[0membedding\u001b[0m \u001b[0;34m=\u001b[0m \u001b[0mreducer\u001b[0m\u001b[0;34m.\u001b[0m\u001b[0mtransform\u001b[0m\u001b[0;34m(\u001b[0m\u001b[0mX_test\u001b[0m\u001b[0;34m)\u001b[0m\u001b[0;34m\u001b[0m\u001b[0;34m\u001b[0m\u001b[0m\n\u001b[1;32m     27\u001b[0m \u001b[0;34m\u001b[0m\u001b[0m\n\u001b[0;32m---> 28\u001b[0;31m   \u001b[0my_test_umap\u001b[0m \u001b[0;34m=\u001b[0m \u001b[0mreducer\u001b[0m\u001b[0;34m.\u001b[0m\u001b[0mtransform\u001b[0m\u001b[0;34m(\u001b[0m\u001b[0my_test\u001b[0m\u001b[0;34m)\u001b[0m\u001b[0;34m\u001b[0m\u001b[0;34m\u001b[0m\u001b[0m\n\u001b[0m\u001b[1;32m     29\u001b[0m   \u001b[0my_pred_umap\u001b[0m \u001b[0;34m=\u001b[0m \u001b[0mclf\u001b[0m\u001b[0;34m.\u001b[0m\u001b[0mpredict\u001b[0m\u001b[0;34m(\u001b[0m\u001b[0membedding\u001b[0m\u001b[0;34m)\u001b[0m\u001b[0;34m\u001b[0m\u001b[0;34m\u001b[0m\u001b[0m\n\u001b[1;32m     30\u001b[0m \u001b[0;34m\u001b[0m\u001b[0m\n",
      "\u001b[0;32m/home/adrjan/.local/lib/python3.6/site-packages/umap/umap_.py\u001b[0m in \u001b[0;36mtransform\u001b[0;34m(self, X)\u001b[0m\n\u001b[1;32m   1620\u001b[0m             )\n\u001b[1;32m   1621\u001b[0m         \u001b[0;31m# If we just have the original input then short circuit things\u001b[0m\u001b[0;34m\u001b[0m\u001b[0;34m\u001b[0m\u001b[0;34m\u001b[0m\u001b[0m\n\u001b[0;32m-> 1622\u001b[0;31m         \u001b[0mX\u001b[0m \u001b[0;34m=\u001b[0m \u001b[0mcheck_array\u001b[0m\u001b[0;34m(\u001b[0m\u001b[0mX\u001b[0m\u001b[0;34m,\u001b[0m \u001b[0mdtype\u001b[0m\u001b[0;34m=\u001b[0m\u001b[0mnp\u001b[0m\u001b[0;34m.\u001b[0m\u001b[0mfloat32\u001b[0m\u001b[0;34m,\u001b[0m \u001b[0maccept_sparse\u001b[0m\u001b[0;34m=\u001b[0m\u001b[0;34m\"csr\"\u001b[0m\u001b[0;34m)\u001b[0m\u001b[0;34m\u001b[0m\u001b[0;34m\u001b[0m\u001b[0m\n\u001b[0m\u001b[1;32m   1623\u001b[0m         \u001b[0mx_hash\u001b[0m \u001b[0;34m=\u001b[0m \u001b[0mjoblib\u001b[0m\u001b[0;34m.\u001b[0m\u001b[0mhash\u001b[0m\u001b[0;34m(\u001b[0m\u001b[0mX\u001b[0m\u001b[0;34m)\u001b[0m\u001b[0;34m\u001b[0m\u001b[0;34m\u001b[0m\u001b[0m\n\u001b[1;32m   1624\u001b[0m         \u001b[0;32mif\u001b[0m \u001b[0mx_hash\u001b[0m \u001b[0;34m==\u001b[0m \u001b[0mself\u001b[0m\u001b[0;34m.\u001b[0m\u001b[0m_input_hash\u001b[0m\u001b[0;34m:\u001b[0m\u001b[0;34m\u001b[0m\u001b[0;34m\u001b[0m\u001b[0m\n",
      "\u001b[0;32m/home/adrjan/.local/lib/python3.6/site-packages/sklearn/utils/validation.py\u001b[0m in \u001b[0;36mcheck_array\u001b[0;34m(array, accept_sparse, accept_large_sparse, dtype, order, copy, force_all_finite, ensure_2d, allow_nd, ensure_min_samples, ensure_min_features, warn_on_dtype, estimator)\u001b[0m\n\u001b[1;32m    554\u001b[0m                     \u001b[0;34m\"Reshape your data either using array.reshape(-1, 1) if \"\u001b[0m\u001b[0;34m\u001b[0m\u001b[0;34m\u001b[0m\u001b[0m\n\u001b[1;32m    555\u001b[0m                     \u001b[0;34m\"your data has a single feature or array.reshape(1, -1) \"\u001b[0m\u001b[0;34m\u001b[0m\u001b[0;34m\u001b[0m\u001b[0m\n\u001b[0;32m--> 556\u001b[0;31m                     \"if it contains a single sample.\".format(array))\n\u001b[0m\u001b[1;32m    557\u001b[0m \u001b[0;34m\u001b[0m\u001b[0m\n\u001b[1;32m    558\u001b[0m         \u001b[0;31m# in the future np.flexible dtypes will be handled like object dtypes\u001b[0m\u001b[0;34m\u001b[0m\u001b[0;34m\u001b[0m\u001b[0;34m\u001b[0m\u001b[0m\n",
      "\u001b[0;31mValueError\u001b[0m: Expected 2D array, got 1D array instead:\narray=[2. 8. 9. 1. 0. 2. 0. 8. 6. 7. 4. 1. 3. 3. 2. 5. 4. 6. 0. 0. 0. 4. 1. 1.\n 8. 6. 0. 1. 4. 1. 1. 8. 1. 2. 4. 5. 7. 8. 1. 8. 6. 9. 4. 1. 2. 3. 7. 9.\n 0. 8. 4. 2. 8. 5. 7. 1. 4. 8. 5. 2. 4. 5. 9. 4. 1. 7. 4. 7. 1. 8. 2. 7.\n 0. 8. 7. 0. 3. 0. 2. 8. 8. 7. 8. 4. 5. 3. 8. 2. 6. 6. 7. 7. 1. 8. 5. 1.\n 0. 1. 2. 9. 5. 6. 8. 5. 0. 1. 4. 6. 8. 2. 5. 4. 4. 3. 2. 3. 7. 8. 1. 6.\n 1. 4. 0. 0. 9. 1. 4. 6. 0. 1. 6. 3. 8. 3. 9. 0. 2. 8. 7. 0. 1. 5. 3. 9.\n 4. 9. 7. 8. 9. 2. 4. 4. 2. 8. 3. 7. 3. 9. 4. 2. 3. 5. 0. 5. 1. 2. 2. 9.\n 5. 9. 9. 3. 3. 9. 7. 4. 1. 5. 8. 2. 1. 6. 7. 7. 4. 7. 2. 6. 7. 4. 6. 8.\n 5. 2. 6. 2. 7. 2. 7. 7. 9. 0. 3. 6. 2. 3. 7. 5. 7. 7. 9. 7. 3. 5. 2. 5.\n 6. 1. 7. 7. 5. 2. 9. 6. 9. 7. 3. 4. 5. 8. 1. 4. 6. 0. 3. 6. 4. 8. 3. 4.\n 3. 5. 3. 0. 7. 8. 5. 7. 0. 7. 6. 6. 4. 0. 2. 3. 2. 6. 8. 6. 0. 0. 8. 1.\n 0. 4. 3. 0. 5. 3. 0. 9. 6. 4. 6. 8. 5. 4. 1. 9. 7. 8. 3. 3. 5. 6. 4. 7.\n 6. 3. 1. 9. 1. 6. 0. 5. 8. 3. 5. 8. 0. 5. 8. 6. 6. 1. 5. 4. 7. 1. 9. 9.\n 7. 5. 9. 8. 0. 4. 2. 6. 9. 0. 6. 1. 9. 0. 2. 9. 3. 0. 4. 4. 0. 2. 8. 3.\n 6. 7. 3. 0. 9. 0. 5. 6. 5. 6. 1. 9. 7. 5. 0. 7. 5. 6. 4. 4. 1. 7. 0. 4.].\nReshape your data either using array.reshape(-1, 1) if your data has a single feature or array.reshape(1, -1) if it contains a single sample."
     ]
    }
   ],
   "source": [
    "# Porównaj metrykę _accuracy_ dla klasyfikatora SVC z kernelem RBF\n",
    "# przed i po transformacji z użyciem UMAP za pomocą 5-krotnej walidacji krzyżowej.\n",
    "\n",
    "clf = SVC(kernel='rbf')\n",
    "kf = KFold(n_splits=5, shuffle=True)\n",
    "\n",
    "X_train, X_test, y_train, y_test = train_test_split(\n",
    "digits.data, digits.target, test_size=0.2, random_state=421, shuffle=True)  \n",
    "\n",
    "X = digits.data\n",
    "y = digits.target\n",
    "\n",
    "reducer.fit(X_train)\n",
    "\n",
    "for train_index, test_index in kf.split(X, y):\n",
    "  #print(\"TRAIN:\", train_index, \"TEST:\", test_index)\n",
    "  X_train, X_test = X[train_index], X[test_index]\n",
    "  y_train, y_test_origin = y[train_index], y[test_index]\n",
    "\n",
    "  clf.fit(X_train, y_train)\n",
    "  y_pred_origin = clf.predict(X_test)\n",
    "\n",
    "#  jest potrzebne jeszcze y_test_umap\n",
    "  \n",
    "  reducer.fit(X_train)\n",
    "  embedding = reducer.transform(X_test)\n",
    "    \n",
    "  y_test_umap = reducer.transform(y_test)\n",
    "  y_pred_umap = clf.predict(embedding)\n",
    "\n",
    "  print(metrics.accuracy_score(y_test_origin, y_pred_origin))\n",
    "  print(metrics.accuracy_score(y_test_umap, y_pred_umap))\n",
    "\n"
   ]
  },
  {
   "cell_type": "markdown",
   "metadata": {
    "colab_type": "text",
    "id": "_p21tVotgvm6"
   },
   "source": [
    "## Pipeline z selekcją cech\n",
    "\n",
    "Zmodyfikuj poniższy pipeline tak, aby etap selekcji cech był opcjonalny. Zapoznaj się w tym celu z dokumentacją: https://scikit-learn.org/stable/modules/compose.html\n",
    "\n",
    "Czy selekcja cech poprawia MSE?\n",
    "Spróbuj z inną wybraną metodą selekcji cech."
   ]
  },
  {
   "cell_type": "code",
   "execution_count": 6,
   "metadata": {
    "colab": {},
    "colab_type": "code",
    "id": "rP123T70g2Q_"
   },
   "outputs": [
    {
     "ename": "ValueError",
     "evalue": "'???' is not a valid scoring value. Use sorted(sklearn.metrics.SCORERS.keys()) to get valid options.",
     "output_type": "error",
     "traceback": [
      "\u001b[0;31m--------------------------------------------------------------------------\u001b[0m",
      "\u001b[0;31mKeyError\u001b[0m                                 Traceback (most recent call last)",
      "\u001b[0;32m/home/adrjan/.local/lib/python3.6/site-packages/sklearn/metrics/_scorer.py\u001b[0m in \u001b[0;36mget_scorer\u001b[0;34m(scoring)\u001b[0m\n\u001b[1;32m    358\u001b[0m             \u001b[0;32melse\u001b[0m\u001b[0;34m:\u001b[0m\u001b[0;34m\u001b[0m\u001b[0;34m\u001b[0m\u001b[0m\n\u001b[0;32m--> 359\u001b[0;31m                 \u001b[0mscorer\u001b[0m \u001b[0;34m=\u001b[0m \u001b[0mSCORERS\u001b[0m\u001b[0;34m[\u001b[0m\u001b[0mscoring\u001b[0m\u001b[0;34m]\u001b[0m\u001b[0;34m\u001b[0m\u001b[0;34m\u001b[0m\u001b[0m\n\u001b[0m\u001b[1;32m    360\u001b[0m         \u001b[0;32mexcept\u001b[0m \u001b[0mKeyError\u001b[0m\u001b[0;34m:\u001b[0m\u001b[0;34m\u001b[0m\u001b[0;34m\u001b[0m\u001b[0m\n",
      "\u001b[0;31mKeyError\u001b[0m: '???'",
      "\nDuring handling of the above exception, another exception occurred:\n",
      "\u001b[0;31mValueError\u001b[0m                               Traceback (most recent call last)",
      "\u001b[0;32m<ipython-input-6-68faea37e675>\u001b[0m in \u001b[0;36m<module>\u001b[0;34m()\u001b[0m\n\u001b[1;32m     25\u001b[0m \u001b[0msearch\u001b[0m \u001b[0;34m=\u001b[0m \u001b[0mGridSearchCV\u001b[0m\u001b[0;34m(\u001b[0m\u001b[0mpipe\u001b[0m\u001b[0;34m,\u001b[0m \u001b[0mparam_grid\u001b[0m\u001b[0;34m,\u001b[0m \u001b[0mscoring\u001b[0m\u001b[0;34m=\u001b[0m\u001b[0;34m'???'\u001b[0m\u001b[0;34m)\u001b[0m\u001b[0;34m\u001b[0m\u001b[0;34m\u001b[0m\u001b[0m\n\u001b[1;32m     26\u001b[0m \u001b[0;34m\u001b[0m\u001b[0m\n\u001b[0;32m---> 27\u001b[0;31m \u001b[0msearch\u001b[0m\u001b[0;34m.\u001b[0m\u001b[0mfit\u001b[0m\u001b[0;34m(\u001b[0m\u001b[0mX_b_train\u001b[0m\u001b[0;34m,\u001b[0m \u001b[0my_b_train\u001b[0m\u001b[0;34m)\u001b[0m\u001b[0;34m\u001b[0m\u001b[0;34m\u001b[0m\u001b[0m\n\u001b[0m\u001b[1;32m     28\u001b[0m \u001b[0mprint\u001b[0m\u001b[0;34m(\u001b[0m\u001b[0msearch\u001b[0m\u001b[0;34m.\u001b[0m\u001b[0mbest_params_\u001b[0m\u001b[0;34m)\u001b[0m\u001b[0;34m\u001b[0m\u001b[0;34m\u001b[0m\u001b[0m\n\u001b[1;32m     29\u001b[0m \u001b[0mprint\u001b[0m\u001b[0;34m(\u001b[0m\u001b[0msearch\u001b[0m\u001b[0;34m.\u001b[0m\u001b[0mbest_score_\u001b[0m\u001b[0;34m)\u001b[0m\u001b[0;34m\u001b[0m\u001b[0;34m\u001b[0m\u001b[0m\n",
      "\u001b[0;32m/home/adrjan/.local/lib/python3.6/site-packages/sklearn/model_selection/_search.py\u001b[0m in \u001b[0;36mfit\u001b[0;34m(self, X, y, groups, **fit_params)\u001b[0m\n\u001b[1;32m    627\u001b[0m \u001b[0;34m\u001b[0m\u001b[0m\n\u001b[1;32m    628\u001b[0m         scorers, self.multimetric_ = _check_multimetric_scoring(\n\u001b[0;32m--> 629\u001b[0;31m             self.estimator, scoring=self.scoring)\n\u001b[0m\u001b[1;32m    630\u001b[0m \u001b[0;34m\u001b[0m\u001b[0m\n\u001b[1;32m    631\u001b[0m         \u001b[0;32mif\u001b[0m \u001b[0mself\u001b[0m\u001b[0;34m.\u001b[0m\u001b[0mmultimetric_\u001b[0m\u001b[0;34m:\u001b[0m\u001b[0;34m\u001b[0m\u001b[0;34m\u001b[0m\u001b[0m\n",
      "\u001b[0;32m/home/adrjan/.local/lib/python3.6/site-packages/sklearn/metrics/_scorer.py\u001b[0m in \u001b[0;36m_check_multimetric_scoring\u001b[0;34m(estimator, scoring)\u001b[0m\n\u001b[1;32m    471\u001b[0m     if callable(scoring) or scoring is None or isinstance(scoring,\n\u001b[1;32m    472\u001b[0m                                                           str):\n\u001b[0;32m--> 473\u001b[0;31m         \u001b[0mscorers\u001b[0m \u001b[0;34m=\u001b[0m \u001b[0;34m{\u001b[0m\u001b[0;34m\"score\"\u001b[0m\u001b[0;34m:\u001b[0m \u001b[0mcheck_scoring\u001b[0m\u001b[0;34m(\u001b[0m\u001b[0mestimator\u001b[0m\u001b[0;34m,\u001b[0m \u001b[0mscoring\u001b[0m\u001b[0;34m=\u001b[0m\u001b[0mscoring\u001b[0m\u001b[0;34m)\u001b[0m\u001b[0;34m}\u001b[0m\u001b[0;34m\u001b[0m\u001b[0;34m\u001b[0m\u001b[0m\n\u001b[0m\u001b[1;32m    474\u001b[0m         \u001b[0;32mreturn\u001b[0m \u001b[0mscorers\u001b[0m\u001b[0;34m,\u001b[0m \u001b[0;32mFalse\u001b[0m\u001b[0;34m\u001b[0m\u001b[0;34m\u001b[0m\u001b[0m\n\u001b[1;32m    475\u001b[0m     \u001b[0;32melse\u001b[0m\u001b[0;34m:\u001b[0m\u001b[0;34m\u001b[0m\u001b[0;34m\u001b[0m\u001b[0m\n",
      "\u001b[0;32m/home/adrjan/.local/lib/python3.6/site-packages/sklearn/metrics/_scorer.py\u001b[0m in \u001b[0;36mcheck_scoring\u001b[0;34m(estimator, scoring, allow_none)\u001b[0m\n\u001b[1;32m    401\u001b[0m                         \"'fit' method, %r was passed\" % estimator)\n\u001b[1;32m    402\u001b[0m     \u001b[0;32mif\u001b[0m \u001b[0misinstance\u001b[0m\u001b[0;34m(\u001b[0m\u001b[0mscoring\u001b[0m\u001b[0;34m,\u001b[0m \u001b[0mstr\u001b[0m\u001b[0;34m)\u001b[0m\u001b[0;34m:\u001b[0m\u001b[0;34m\u001b[0m\u001b[0;34m\u001b[0m\u001b[0m\n\u001b[0;32m--> 403\u001b[0;31m         \u001b[0;32mreturn\u001b[0m \u001b[0mget_scorer\u001b[0m\u001b[0;34m(\u001b[0m\u001b[0mscoring\u001b[0m\u001b[0;34m)\u001b[0m\u001b[0;34m\u001b[0m\u001b[0;34m\u001b[0m\u001b[0m\n\u001b[0m\u001b[1;32m    404\u001b[0m     \u001b[0;32melif\u001b[0m \u001b[0mcallable\u001b[0m\u001b[0;34m(\u001b[0m\u001b[0mscoring\u001b[0m\u001b[0;34m)\u001b[0m\u001b[0;34m:\u001b[0m\u001b[0;34m\u001b[0m\u001b[0;34m\u001b[0m\u001b[0m\n\u001b[1;32m    405\u001b[0m         \u001b[0;31m# Heuristic to ensure user has not passed a metric\u001b[0m\u001b[0;34m\u001b[0m\u001b[0;34m\u001b[0m\u001b[0;34m\u001b[0m\u001b[0m\n",
      "\u001b[0;32m/home/adrjan/.local/lib/python3.6/site-packages/sklearn/metrics/_scorer.py\u001b[0m in \u001b[0;36mget_scorer\u001b[0;34m(scoring)\u001b[0m\n\u001b[1;32m    361\u001b[0m             raise ValueError('%r is not a valid scoring value. '\n\u001b[1;32m    362\u001b[0m                              \u001b[0;34m'Use sorted(sklearn.metrics.SCORERS.keys()) '\u001b[0m\u001b[0;34m\u001b[0m\u001b[0;34m\u001b[0m\u001b[0m\n\u001b[0;32m--> 363\u001b[0;31m                              'to get valid options.' % scoring)\n\u001b[0m\u001b[1;32m    364\u001b[0m     \u001b[0;32melse\u001b[0m\u001b[0;34m:\u001b[0m\u001b[0;34m\u001b[0m\u001b[0;34m\u001b[0m\u001b[0m\n\u001b[1;32m    365\u001b[0m         \u001b[0mscorer\u001b[0m \u001b[0;34m=\u001b[0m \u001b[0mscoring\u001b[0m\u001b[0;34m\u001b[0m\u001b[0;34m\u001b[0m\u001b[0m\n",
      "\u001b[0;31mValueError\u001b[0m: '???' is not a valid scoring value. Use sorted(sklearn.metrics.SCORERS.keys()) to get valid options."
     ]
    }
   ],
   "source": [
    "from sklearn.model_selection import GridSearchCV\n",
    "\n",
    "from sklearn.feature_selection import SelectFromModel\n",
    "from sklearn import linear_model\n",
    "from sklearn.pipeline import Pipeline\n",
    "from sklearn import tree\n",
    "from sklearn.metrics import mean_squared_error\n",
    "\n",
    "boston = datasets.load_boston()\n",
    "\n",
    "# Wycinamy kawałek danych do testów:\n",
    "\n",
    "X_b_train, X_b_test, y_b_train, y_b_test = train_test_split(\n",
    "    boston.data, boston.target, test_size=0.2, random_state=421, shuffle=True)\n",
    "\n",
    "pipe = Pipeline(steps=[\n",
    "  ('feature_selection', SelectFromModel(linear_model.Lasso(alpha=0.5))),\n",
    "  ('tree', tree.DecisionTreeRegressor()),\n",
    "])\n",
    "\n",
    "param_grid = {\n",
    "    'tree__max_depth': [1, 2, 3, 4, None],\n",
    "    'tree__min_samples_leaf': [1, 2, 4, 8]\n",
    "}\n",
    "search = GridSearchCV(pipe, param_grid, scoring='???')\n",
    "\n",
    "search.fit(X_b_train, y_b_train)\n",
    "print(search.best_params_)\n",
    "print(search.best_score_)\n",
    "\n",
    "print(\"MSE train: \", mean_squared_error(y_b_train, search.predict(X_b_train)))\n",
    "print(\"MSE test:  \", mean_squared_error(y_b_test, search.predict(X_b_test)))"
   ]
  },
  {
   "cell_type": "code",
   "execution_count": null,
   "metadata": {},
   "outputs": [],
   "source": []
  }
 ],
 "metadata": {
  "colab": {
   "authorship_tag": "ABX9TyNWzr/gej7goxsKOgsaXwew",
   "collapsed_sections": [],
   "name": "Zajecia3.ipynb",
   "provenance": [
    {
     "file_id": "1cJ_SNJCfd3Z58wJKKll6BVRgGuaCiCjh",
     "timestamp": 1583829844798
    }
   ],
   "toc_visible": true
  },
  "kernelspec": {
   "display_name": "Python 3",
   "language": "python",
   "name": "python3"
  },
  "language_info": {
   "codemirror_mode": {
    "name": "ipython",
    "version": 3
   },
   "file_extension": ".py",
   "mimetype": "text/x-python",
   "name": "python",
   "nbconvert_exporter": "python",
   "pygments_lexer": "ipython3",
   "version": "3.6.9"
  }
 },
 "nbformat": 4,
 "nbformat_minor": 2
}
