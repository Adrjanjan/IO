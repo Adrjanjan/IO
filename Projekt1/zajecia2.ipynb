{
 "cells": [
  {
   "cell_type": "markdown",
   "metadata": {
    "colab_type": "text",
    "id": "gFHSNZ-iTU2p"
   },
   "source": [
    "# Laboratorium 2: ewaluacja metod uczenia maszynowego\n",
    "\n",
    "W ramach laboratorium omówiona zostanie ewaluacja metod uczenia maszynowego ze szczególnym uwzględnieniem problemu regresji."
   ]
  },
  {
   "cell_type": "code",
   "execution_count": null,
   "metadata": {
    "colab": {},
    "colab_type": "code",
    "id": "doIptr5uTULW"
   },
   "outputs": [],
   "source": [
    "from sklearn import datasets\n",
    "from sklearn.model_selection import train_test_split\n",
    "import numpy as np\n",
    "\n",
    "boston = datasets.load_boston()\n",
    "print(boston.DESCR)\n",
    "\n",
    "print(\"boston (shape): \", boston.data.shape)\n",
    "\n",
    "print(boston.target)\n",
    "\n",
    "# Wycinamy kawałek danych do testów:\n",
    "\n",
    "X_train, X_test, y_train, y_test = train_test_split(\n",
    "    boston.data, boston.target, test_size=0.2, random_state=421, shuffle=True)\n",
    "\n",
    "print(X_train.shape)"
   ]
  },
  {
   "cell_type": "markdown",
   "metadata": {
    "colab_type": "text",
    "id": "2p80GeP8VHz4"
   },
   "source": [
    "## Regresja liniowa\n",
    "\n",
    "Przejrzyj poniższy kod.\n",
    "Policz współczynniki $R^2$ na zbiorze testowym i treningowym.\n",
    "Jak się je interpretuje? Który powinien być większy?\n",
    "Policz też błędy średniokwadratowe."
   ]
  },
  {
   "cell_type": "code",
   "execution_count": null,
   "metadata": {
    "colab": {},
    "colab_type": "code",
    "id": "4YtjkVi6VKcp"
   },
   "outputs": [],
   "source": [
    "from sklearn import linear_model\n",
    "from sklearn.metrics import mean_squared_error\n",
    "import matplotlib.pyplot as plt\n",
    "\n",
    "lr = linear_model.LinearRegression()\n",
    "lr.fit(X_train, y_train)\n",
    "\n",
    "def evaluate_reg(reg):\n",
    "  pred_test = reg.predict(X_test)\n",
    "\n",
    "  fig, ax = plt.subplots()\n",
    "  ax.scatter(y_test, pred_test, edgecolors=(0, 0, 0))\n",
    "  ax.plot([y_test.min(), y_test.max()], [y_test.min(), y_test.max()], 'k--', lw=2)\n",
    "  ax.set_xlabel('Measured')\n",
    "  ax.set_ylabel('Predicted')\n",
    "  plt.show()\n",
    "\n",
    "  print(\"MSE train: \", mean_squared_error(y_train, reg.predict(X_train))) # TODO\n",
    "  print(\"MSE test:  \", mean_squared_error(y_test, pred_test)) # TODO\n",
    "\n",
    "evaluate_reg(lr)\n",
    "\n",
    "print(\"R2 train: \", lr.score(X_train, y_train))\n",
    "print(\"R2 test:  \", lr.score(X_test, y_test)) # TODO\n"
   ]
  },
  {
   "cell_type": "markdown",
   "metadata": {
    "colab_type": "text",
    "id": "zI-787LaonkF"
   },
   "source": [
    "## Ridge regression\n",
    "\n",
    "Przeprowadź analogiczną procedurę jak w poprzednim punkcie, ale z wykorzystaniem *Ridge regression*.\n",
    "Sprawdź, które współczynniki regresji są równe zero. Co to oznacza? Jakim parametrom w danych odpowiadają te cechy?"
   ]
  },
  {
   "cell_type": "code",
   "execution_count": null,
   "metadata": {
    "colab": {},
    "colab_type": "code",
    "id": "BL73Ozgvo-Ln"
   },
   "outputs": [],
   "source": [
    "from sklearn import linear_model\n",
    "\n",
    "reg_ridge = linear_model.Ridge(alpha=1)\n",
    "reg_lasso = linear_model.Lasso(alpha=0.5)\n",
    "\n",
    "reg = reg_lasso\n",
    "\n",
    "reg.fit(X_train, y_train)\n",
    "evaluate_reg(reg)\n",
    "print(\"Params: \", reg.coef_) # TODO\n",
    "print(\"Intercept: \", reg.intercept_) # TODO\n",
    "\n",
    "## solution \n",
    "print(\"R2 train: \", reg.score(X_train, y_train))\n",
    "print(\"R2 test:  \", reg.score(X_test, y_test)) # TODO"
   ]
  },
  {
   "cell_type": "markdown",
   "metadata": {
    "colab_type": "text",
    "id": "8SDSfODcY3yz"
   },
   "source": [
    "## Drzewa regresji\n",
    "\n",
    "Dopasuj kilkukrotnie model drzewa regresji. W jakim zakresie zmienia się błąd na zbiorze treningowym?"
   ]
  },
  {
   "cell_type": "code",
   "execution_count": null,
   "metadata": {
    "colab": {},
    "colab_type": "code",
    "id": "Z8YC16fKY3A-"
   },
   "outputs": [],
   "source": [
    "from sklearn import tree\n",
    "\n",
    "reg = tree.DecisionTreeRegressor()\n",
    "\n",
    "reg.fit(X_train, y_train)\n",
    "\n",
    "evaluate_reg(reg)"
   ]
  },
  {
   "cell_type": "markdown",
   "metadata": {
    "colab_type": "text",
    "id": "Tk1PiaRI5MBx"
   },
   "source": [
    "## Walidacja krzyżowa\n",
    "\n",
    "Zaobserwuj stabilność średniej z MSE przy wykorzystaniu walidacji krzyżowej.\n",
    "Dopisz sprawdzanie błędów poszczególnych klasyfikatorów na zbiorze testowym (normalnie tego się **nie** robi -- to jest tylko dla celów poglądowych). Zastanów się skąd może brać się różnica.\n",
    "\n",
    "Porównaj wyniki dla drzew regresji i metody Lasso z wcześniejszego zadania."
   ]
  },
  {
   "cell_type": "code",
   "execution_count": null,
   "metadata": {
    "colab": {},
    "colab_type": "code",
    "id": "7Te2IOEH5OOK"
   },
   "outputs": [],
   "source": [
    "from sklearn.model_selection import KFold\n",
    "\n",
    "kf = KFold(n_splits=10, shuffle=True)\n",
    "mean_train_f = []\n",
    "mean_validate_f = []\n",
    "mean_test = []\n",
    "\n",
    "\n",
    "for train_idx, valid_idx in kf.split(X_train):\n",
    "  X_train_f, X_validate_f = X_train[train_idx], X_train[valid_idx]\n",
    "  y_train_f, y_validate_f = y_train[train_idx], y_train[valid_idx]\n",
    "\n",
    "  # reg = tree.DecisionTreeRegressor()\n",
    "  reg = linear_model.Lasso(alpha=0.5)\n",
    "  reg.fit(X_train_f, y_train_f)\n",
    "\n",
    "  mean_train_f.append(mean_squared_error(y_train_f, reg.predict(X_train_f)))\n",
    "  mean_validate_f.append(mean_squared_error(y_validate_f, reg.predict(X_validate_f)))\n",
    "  mean_test.append(mean_squared_error(y_test, reg.predict(X_test)))\n",
    "\n",
    "print(mean(mean_train_f))\n",
    "print(mean(mean_validate_f))\n",
    "print(mean(mean_test))\n",
    "\n",
    "# wypisz średnie wartości MSE na zbiorach:\n",
    "# X_t_f (trening), X_v_f (walidacja), X_test (testowy)"
   ]
  },
  {
   "cell_type": "markdown",
   "metadata": {
    "colab_type": "text",
    "id": "_p21tVotgvm6"
   },
   "source": [
    "## Optymalizacja parametrów\n",
    "\n",
    "Z użyciem walidacji krzyżowej\n",
    "\n",
    "Znajdź optymalną wartość parametru `alpha` dla metody Lasso.\n",
    "\n",
    "Następnie znajdź optymalne parametry dla metody `DecisionTreeRegressor` (na przykład `max_depth`, `min_samples_leaf`). Spróbuj zmodyfikować także inne parametry i sprawdź rezultaty.\n",
    "\n",
    "Napisz własną funkcję oceniającą model regresji tak, aby premiowała małe drzewa. Ile minimum węzłów w drzewie potrzebujesz aby MSE na zbiorze testowym było mniejsze niż 15?"
   ]
  },
  {
   "cell_type": "code",
   "execution_count": null,
   "metadata": {
    "colab": {},
    "colab_type": "code",
    "id": "rP123T70g2Q_"
   },
   "outputs": [],
   "source": [
    "from sklearn.model_selection import GridSearchCV\n",
    "\n",
    "parameters = {'alpha': [0.1, 0.5 , 1.0, 5.0, 10.0]}\n",
    "lasso_reg = linear_model.Lasso()\n",
    "gcv_reg = GridSearchCV(lasso_reg, parameters, scoring='neg_mean_squared_error')\n",
    "gcv_reg.fit(X_train, y_train)\n",
    "print(gcv_reg.best_params_)\n",
    "\n",
    "print(\"MSE train: \", mean_squared_error(y_train, gcv_reg.predict(X_train))) # TODO\n",
    "print(\"MSE test:  \", mean_squared_error(y_test, gcv_reg.predict(X_test))) # TODO\n",
    "\n",
    "grid_tree = {'max_depth': [10, 50, 100, 500, 1000], 'min_samples_leaf':[1, 2, 3, 4, 5, 10]} # TODO\n",
    "tree_reg = tree.DecisionTreeRegressor()\n",
    "gcv_reg = GridSearchCV(tree_reg, grid_tree, scoring='neg_mean_squared_error') # TODO\n",
    "gcv_reg.fit(X_train, y_train)\n",
    "print(gcv_reg.best_params_)\n",
    "\n",
    "tree.plot_tree(gcv_reg.best_estimator_)\n",
    "\n",
    "print(\"MSE train: \", mean_squared_error(y_train, gcv_reg.predict(X_train))) # TODO\n",
    "print(\"MSE test:  \", mean_squared_error(y_test, gcv_reg.predict(X_test))) # TODO\n",
    "print(\"Number of nodes: \", gcv_reg.best_estimator_.tree_.node_count)"
   ]
  }
 ],
 "metadata": {
  "colab": {
   "authorship_tag": "ABX9TyN2SHXaMXv1b4Wh/k5CfLOe",
   "collapsed_sections": [],
   "name": "Zajecia2.ipynb",
   "provenance": []
  },
  "kernelspec": {
   "display_name": "Python 3",
   "language": "python",
   "name": "python3"
  },
  "language_info": {
   "codemirror_mode": {
    "name": "ipython",
    "version": 3
   },
   "file_extension": ".py",
   "mimetype": "text/x-python",
   "name": "python",
   "nbconvert_exporter": "python",
   "pygments_lexer": "ipython3",
   "version": "3.6.9"
  }
 },
 "nbformat": 4,
 "nbformat_minor": 2
}
