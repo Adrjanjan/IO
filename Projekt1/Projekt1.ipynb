{
 "cells": [
  {
   "cell_type": "code",
   "execution_count": null,
   "outputs": [],
   "source": [
    "import pandas as pd \n",
    "import numpy as np\n",
    "from sklearn import preprocessing\n",
    "from sklearn.model_selection import train_test_split, GridSearchCV\n",
    "from sklearn.ensemble import RandomForestClassifier\n",
    "from sklearn.metrics import classification_report, accuracy_score\n",
    "from sklearn.decomposition import PCA\n",
    "from sklearn.preprocessing import StandardScaler, normalize\n",
    "from copy import deepcopy"
   ],
   "metadata": {
    "collapsed": false,
    "pycharm": {
     "name": "#%%\n"
    }
   }
  },
  {
   "cell_type": "markdown",
   "source": [
    "# Import danych i preprocessing"
   ],
   "metadata": {
    "collapsed": false
   }
  },
  {
   "cell_type": "code",
   "execution_count": null,
   "outputs": [],
   "source": [
    "cars = pd.read_csv(\"data/car.data\").to_numpy()\n",
    "le = preprocessing.LabelEncoder()"
   ],
   "metadata": {
    "collapsed": false,
    "pycharm": {
     "name": "#%%\n"
    }
   }
  },
  {
   "cell_type": "code",
   "execution_count": null,
   "outputs": [],
   "source": [
    "le.fit([\"low\", \"med\", \"high\", \"vhigh\"]) \n",
    "cars[:,0] = le.transform(cars[:,0]) # buying\n",
    "cars[:,1] = le.transform(cars[:,1]) # maintenance"
   ],
   "metadata": {
    "collapsed": false,
    "pycharm": {
     "name": "#%%\n"
    }
   }
  },
  {
   "cell_type": "code",
   "execution_count": null,
   "outputs": [],
   "source": [
    "le.fit([\"2\", \"3\", \"4\", \"5more\"])\n",
    "cars[:,2] = le.transform(cars[:,2]) # doors"
   ],
   "metadata": {
    "collapsed": false,
    "pycharm": {
     "name": "#%%\n"
    }
   }
  },
  {
   "cell_type": "code",
   "execution_count": null,
   "outputs": [],
   "source": [
    "le.fit([\"2\", \"4\", \"more\"])\n",
    "cars[:,3] = le.transform(cars[:,3]) # persons"
   ],
   "metadata": {
    "collapsed": false,
    "pycharm": {
     "name": "#%%\n"
    }
   }
  },
  {
   "cell_type": "code",
   "execution_count": null,
   "outputs": [],
   "source": [
    "le.fit([\"small\", \"med\", \"big\"])\n",
    "cars[:,4] = le.transform(cars[:,4]) # lug_boot"
   ],
   "metadata": {
    "collapsed": false,
    "pycharm": {
     "name": "#%%\n"
    }
   }
  },
  {
   "cell_type": "code",
   "execution_count": null,
   "outputs": [],
   "source": [
    "le.fit([\"low\", \"med\", \"high\"])\n",
    "cars[:,5] = le.transform(cars[:,5]) # safety"
   ],
   "metadata": {
    "collapsed": false,
    "pycharm": {
     "name": "#%%\n"
    }
   }
  },
  {
   "cell_type": "markdown",
   "source": [
    "# Klasyfikacja bez optymalizacji hiperparametrów"
   ],
   "metadata": {
    "collapsed": false
   }
  },
  {
   "cell_type": "code",
   "execution_count": null,
   "outputs": [],
   "source": [
    "cars_X = cars[:, 0:-1]\n",
    "cars_y = cars[:, -1]\n",
    "X_train, X_test, y_train, y_test = train_test_split(cars_X, cars_y, test_size=0.20)"
   ],
   "metadata": {
    "collapsed": false,
    "pycharm": {
     "name": "#%%\n"
    }
   }
  },
  {
   "cell_type": "code",
   "execution_count": null,
   "outputs": [],
   "source": [
    "clf = RandomForestClassifier(random_state = 0)\n",
    "clf.fit(X_train, y_train)\n",
    "y_pred = clf.predict(X_test)"
   ],
   "metadata": {
    "collapsed": false,
    "pycharm": {
     "name": "#%%\n"
    }
   }
  },
  {
   "cell_type": "code",
   "execution_count": null,
   "outputs": [],
   "source": [
    "print(classification_report(y_test, y_pred))"
   ],
   "metadata": {
    "collapsed": false,
    "pycharm": {
     "name": "#%%\n"
    }
   }
  },
  {
   "cell_type": "code",
   "execution_count": null,
   "outputs": [],
   "source": [
    "accuracy_score(y_test, y_pred)"
   ],
   "metadata": {
    "collapsed": false,
    "pycharm": {
     "name": "#%%\n"
    }
   }
  },
  {
   "cell_type": "markdown",
   "source": [
    "# Klasyfikacja z optymalizacją parametrów i walidacją krzyżową (wbudowaną w GridSearchCV)"
   ],
   "metadata": {
    "collapsed": false
   }
  },
  {
   "cell_type": "markdown",
   "source": [
    "## Na oryginalnych danych"
   ],
   "metadata": {
    "collapsed": false
   }
  },
  {
   "cell_type": "code",
   "execution_count": null,
   "outputs": [],
   "source": [
    "grid_params = {'max_depth':[2, 5, 10, 20, 100], 'max_leaf_nodes':[2,3,None], 'min_samples_leaf': [1, 2, 4, 6]}\n",
    "gcv = GridSearchCV(RandomForestClassifier(), grid_params, cv=5, scoring='accuracy') # parametr cv=x oznacza x-krotną walidację krzyżową "
   ],
   "metadata": {
    "collapsed": false,
    "pycharm": {
     "name": "#%%  \n"
    }
   }
  },
  {
   "cell_type": "code",
   "execution_count": null,
   "outputs": [],
   "source": [
    "gcv.fit(X_train, y_train)\n",
    "y_pred = gcv.predict(X_test)\n",
    "\n",
    "print(metrics.classification_report(y_test, y_pred))    \n",
    "print(\"Najlepsze parametry:\", gcv.best_params_)\n",
    "print(\"ACC = \", metrics.accuracy_score(y_test, y_pred))"
   ],
   "metadata": {
    "collapsed": false,
    "pycharm": {
     "name": "#%%\n"
    }
   }
  },
  {
   "cell_type": "code",
   "execution_count": null,
   "outputs": [],
   "source": [
    "from sklearn import metrics\n",
    "metrics.plot_confusion_matrix(gcv.best_estimator_, X_test, y_test)"
   ],
   "metadata": {
    "collapsed": false,
    "pycharm": {
     "name": "#%%\n"
    }
   }
  },
  {
   "cell_type": "markdown",
   "source": [
    "## Na danych zestandaryzowanych "
   ],
   "metadata": {
    "collapsed": false
   }
  },
  {
   "cell_type": "code",
   "execution_count": null,
   "outputs": [],
   "source": [
    "def standarize_columns(columns, data):\n",
    "    for index in columns:\n",
    "        data[:, index:index+1] = StandardScaler().fit_transform(data[:,index:index+1])\n",
    "    return data "
   ],
   "metadata": {
    "collapsed": false,
    "pycharm": {
     "name": "#%%\n"
    }
   }
  },
  {
   "cell_type": "code",
   "execution_count": null,
   "outputs": [],
   "source": [
    "X_train_std = standarize_columns([2, 3], deepcopy(X_train))\n",
    "X_test_std = standarize_columns([2, 3], deepcopy(X_test))\n",
    "y_train_std = y_train\n",
    "y_test_std = y_test"
   ],
   "metadata": {
    "collapsed": false,
    "pycharm": {
     "name": "#%%\n"
    }
   }
  },
  {
   "cell_type": "code",
   "execution_count": null,
   "outputs": [],
   "source": [
    "gcv.fit(X_train_std, y_train_std)\n",
    "y_pred_std = gcv.predict(X_test_std)\n",
    "\n",
    "print(metrics.classification_report(y_test_std, y_pred_std))\n",
    "print(\"Najlepsze parametry:\", gcv.best_params_)\n",
    "print(\"ACC = \", metrics.accuracy_score(y_test_std, y_pred_std))\n",
    "metrics.plot_confusion_matrix(gcv.best_estimator_, X_test_std, y_test_std)"
   ],
   "metadata": {
    "collapsed": false,
    "pycharm": {
     "name": "#%%\n"
    }
   }
  },
  {
   "cell_type": "markdown",
   "source": [
    "## Po normalizacji danych"
   ],
   "metadata": {
    "collapsed": false
   }
  },
  {
   "cell_type": "code",
   "execution_count": null,
   "outputs": [],
   "source": [
    "def normalize_columns(columns, data):\n",
    "    for index in columns:\n",
    "        data[:, index:index+1] = normalize(data[:, index:index+1], axis=0)\n",
    "    return data "
   ],
   "metadata": {
    "collapsed": false,
    "pycharm": {
     "name": "#%%\n"
    }
   }
  },
  {
   "cell_type": "code",
   "execution_count": null,
   "outputs": [],
   "source": [
    "X_train_std = normalize_columns([2, 3], deepcopy(X_train))\n",
    "X_test_std = normalize_columns([2, 3], deepcopy(X_test))\n",
    "y_train_std = y_train\n",
    "y_test_std = y_test"
   ],
   "metadata": {
    "collapsed": false,
    "pycharm": {
     "name": "#%%\n"
    }
   }
  },
  {
   "cell_type": "code",
   "execution_count": null,
   "outputs": [],
   "source": [
    "gcv.fit(X_train, y_train)\n",
    "y_pred = gcv.predict(X_test)\n",
    "\n",
    "print(metrics.classification_report(y_test, y_pred))    \n",
    "print(\"Najlepsze parametry:\", gcv.best_params_)\n",
    "print(\"ACC = \", metrics.accuracy_score(y_test, y_pred))\n",
    "metrics.plot_confusion_matrix(gcv.best_estimator_, X_test, y_test)"
   ],
   "metadata": {
    "collapsed": false,
    "pycharm": {
     "name": "#%%\n"
    }
   }
  },
  {
   "cell_type": "markdown",
   "source": [
    "## Na danych po redukcji wymiarowości (n_components = 5)"
   ],
   "metadata": {
    "collapsed": false
   }
  },
  {
   "cell_type": "code",
   "execution_count": null,
   "outputs": [],
   "source": [
    "pca = PCA(n_components=5)\n",
    "\n",
    "X_train_pca = pca.fit_transform(X_train)\n",
    "X_test_pca = pca.transform(X_test)"
   ],
   "metadata": {
    "collapsed": false,
    "pycharm": {
     "name": "#%%\n"
    }
   }
  },
  {
   "cell_type": "code",
   "execution_count": null,
   "outputs": [],
   "source": [
    "gcv.fit(X_train_pca, y_train)\n",
    "y_pred_pca = gcv.predict(X_test_pca)\n",
    "\n",
    "print(\"Najlepsze parametry:\", gcv.best_params_)\n",
    "print(\"ACC = \", metrics.accuracy_score(y_test, y_pred_pca))\n",
    "print(classification_report(y_test, y_pred_pca))"
   ],
   "metadata": {
    "collapsed": false,
    "pycharm": {
     "name": "#%%\n"
    }
   }
  },
  {
   "cell_type": "code",
   "execution_count": null,
   "outputs": [],
   "source": [
    "metrics.plot_confusion_matrix(gcv.best_estimator_, X_test_pca, y_pred_pca)"
   ],
   "metadata": {
    "collapsed": false,
    "pycharm": {
     "name": "#%%\n"
    }
   }
  },
  {
   "cell_type": "markdown",
   "source": [
    "## Na danych po redukcji wymiarowości (n_components = 4)"
   ],
   "metadata": {
    "collapsed": false
   }
  },
  {
   "cell_type": "code",
   "execution_count": null,
   "outputs": [],
   "source": [
    "pca = PCA(n_components=4)\n",
    "\n",
    "X_train_pca = pca.fit_transform(X_train)\n",
    "X_test_pca = pca.transform(X_test)"
   ],
   "metadata": {
    "collapsed": false,
    "pycharm": {
     "name": "#%%\n"
    }
   }
  },
  {
   "cell_type": "code",
   "execution_count": null,
   "outputs": [],
   "source": [
    "gcv.fit(X_train_pca, y_train)\n",
    "y_pred_pca = gcv.predict(X_test_pca)\n",
    "\n",
    "print(\"Najlepsze parametry:\", gcv.best_params_)\n",
    "print(\"ACC = \", metrics.accuracy_score(y_test, y_pred_pca))\n",
    "print(classification_report(y_test, y_pred_pca))"
   ],
   "metadata": {
    "collapsed": false,
    "pycharm": {
     "name": "#%%\n"
    }
   }
  },
  {
   "cell_type": "code",
   "execution_count": null,
   "outputs": [],
   "source": [
    "metrics.plot_confusion_matrix(gcv.best_estimator_, X_test_pca, y_pred_pca)"
   ],
   "metadata": {
    "collapsed": false,
    "pycharm": {
     "name": "#%%\n"
    }
   }
  }
 ],
 "metadata": {
  "kernelspec": {
   "display_name": "Python 3",
   "language": "python",
   "name": "python3"
  },
  "language_info": {
   "codemirror_mode": {
    "name": "ipython",
    "version": 3
   },
   "file_extension": ".py",
   "mimetype": "text/x-python",
   "name": "python",
   "nbconvert_exporter": "python",
   "pygments_lexer": "ipython3",
   "version": "3.6.9"
  },
  "pycharm": {
   "stem_cell": {
    "cell_type": "raw",
    "source": [],
    "metadata": {
     "collapsed": false
    }
   }
  }
 },
 "nbformat": 4,
 "nbformat_minor": 2
}