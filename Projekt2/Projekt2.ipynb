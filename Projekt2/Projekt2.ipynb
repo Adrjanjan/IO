{
  "nbformat": 4,
  "nbformat_minor": 0,
  "metadata": {
    "colab": {
      "name": "[InteligencjaObliczeniowa] Projekt2.ipynb",
      "provenance": [],
      "collapsed_sections": [
        "ZNAhY88ALKdW",
        "hrRxMUXRcXVR",
        "VD-YWmji4Fne",
        "O5jgZpCt4FoL",
        "cuwol9nfIeD-"
      ]
    },
    "kernelspec": {
      "name": "python3",
      "display_name": "Python 3"
    }
  },
  "cells": [
    {
      "cell_type": "markdown",
      "metadata": {
        "id": "3Wp2ponpCdiv",
        "colab_type": "text"
      },
      "source": [
        "# Patryk Bober patrykbober@student.agh.edu.pl\n",
        "\n",
        "# Adrian Janakiewicz ajanakiewicz@student.agh.edu.pl\n"
      ]
    },
    {
      "cell_type": "markdown",
      "metadata": {
        "id": "5e5LR_pPLOyQ",
        "colab_type": "text"
      },
      "source": [
        "# 1. Przygotowanie"
      ]
    },
    {
      "cell_type": "code",
      "metadata": {
        "id": "1QNycFBiCP_L",
        "colab_type": "code",
        "outputId": "f752b876-2acd-45ee-c2b7-5c304d85d660",
        "colab": {
          "base_uri": "https://localhost:8080/",
          "height": 70
        }
      },
      "source": [
        "#%tensorflow_version 1.x\n",
        "import cv2\n",
        "import random\n",
        "import numpy as np\n",
        "import matplotlib.pyplot as plt\n",
        "import tensorflow as tf\n",
        "import keras\n",
        "\n",
        "from sklearn import svm\n",
        "from xgboost import XGBClassifier\n",
        "from tensorflow.keras import models\n",
        "from tensorflow.keras import layers\n",
        "from tensorflow.keras.datasets import mnist\n",
        "from tensorflow.keras.utils import to_categorical\n",
        "from tensorflow.keras.wrappers.scikit_learn import KerasClassifier\n",
        "from sklearn.model_selection import GridSearchCV\n",
        "from sklearn.ensemble import RandomForestClassifier, GradientBoostingClassifier\n",
        "from sklearn.metrics import classification_report, accuracy_score, plot_confusion_matrix, confusion_matrix\n",
        "\n",
        "print(tf.version.VERSION)\n",
        "print(tf.keras.__version__)\n"
      ],
      "execution_count": 0,
      "outputs": [
        {
          "output_type": "stream",
          "text": [
            "2.2.0-rc1\n",
            "2.2.4-tf\n"
          ],
          "name": "stdout"
        },
        {
          "output_type": "stream",
          "text": [
            "Using TensorFlow backend.\n"
          ],
          "name": "stderr"
        }
      ]
    },
    {
      "cell_type": "code",
      "metadata": {
        "id": "Ioevm_AGDPyK",
        "colab_type": "code",
        "colab": {}
      },
      "source": [
        "## [deskew]\n",
        "# wymiar pojedynczej próbki\n",
        "SZ = 28\n",
        "affine_flags = cv2.WARP_INVERSE_MAP|cv2.INTER_LINEAR\n",
        "\n",
        "def deskew(img):\n",
        "    m = cv2.moments(img)\n",
        "    if abs(m['mu02']) < 1e-2:\n",
        "        return img.copy()\n",
        "    skew = m['mu11']/m['mu02']\n",
        "    M = np.float32([[1, skew, -0.5*SZ*skew], [0, 1, 0]])\n",
        "    img = cv2.warpAffine(img,M,(SZ, SZ),flags=affine_flags)\n",
        "    return img\n",
        "## [deskew]"
      ],
      "execution_count": 0,
      "outputs": []
    },
    {
      "cell_type": "code",
      "metadata": {
        "id": "6p1o3PF8DqHS",
        "colab_type": "code",
        "colab": {}
      },
      "source": [
        "def showOpencvImage(image, isGray=False):\n",
        "    fig = plt.figure(figsize=(6, 6))\n",
        "    plt.imshow(image, cmap = 'gray')\n",
        "    plt.show()"
      ],
      "execution_count": 0,
      "outputs": []
    },
    {
      "cell_type": "code",
      "metadata": {
        "id": "Xz8ecz8NENk4",
        "colab_type": "code",
        "colab": {}
      },
      "source": [
        "def openCVHOG(im):\n",
        "    winSize = (20,20)\n",
        "    blockSize = (10,10)\n",
        "    blockStride = (5,5)\n",
        "    cellSize = (10,10)\n",
        "    nbins = 9\n",
        "    derivAperture = 1\n",
        "    winSigma = -1.\n",
        "    histogramNormType = 0\n",
        "    L2HysThreshold = 0.2\n",
        "    gammaCorrection = 1\n",
        "    nlevels = 64\n",
        "    signedGradients = True\n",
        "\n",
        "    hog = cv2.HOGDescriptor(winSize,blockSize,blockStride,cellSize,nbins,derivAperture,winSigma,histogramNormType,L2HysThreshold,gammaCorrection,nlevels, signedGradients)\n",
        "    descriptor = np.ravel(hog.compute(im))\n",
        "    \n",
        "    return descriptor"
      ],
      "execution_count": 0,
      "outputs": []
    },
    {
      "cell_type": "code",
      "metadata": {
        "id": "uOArNCB0M9qm",
        "colab_type": "code",
        "colab": {}
      },
      "source": [
        "# przygotowanie modelu dla sieci neuronowej\n",
        "def create_model(activation='relu', optimizer='rmsprop'):\n",
        "  \n",
        "  model = models.Sequential()\n",
        "  model.add(layers.Dense(512, activation=activation, input_shape=(28 * 28,)))\n",
        "  model.add(layers.Dense(NUMBER_OF_CLASSES, activation='softmax'))\n",
        "\n",
        "  model.compile(optimizer=optimizer,\n",
        "                    loss='categorical_crossentropy',\n",
        "                    metrics=['accuracy'])\n",
        "  return model"
      ],
      "execution_count": 0,
      "outputs": []
    },
    {
      "cell_type": "code",
      "metadata": {
        "id": "Kh-0gC4uCfHe",
        "colab_type": "code",
        "outputId": "d774f693-a217-40ba-d57f-8b022ad5900b",
        "colab": {
          "base_uri": "https://localhost:8080/",
          "height": 52
        }
      },
      "source": [
        "# Przygotowanie danych\n",
        "\n",
        "(train_images, train_labels), (test_images, test_labels) = mnist.load_data()\n",
        "\n",
        "# images_list = np.asarray([image for image in train_images] + [image for image in test_images])\n",
        "# labels_list = np.asarray([label for label in train_labels] + [label for label in test_labels])\n",
        "\n",
        "sorted_classes = []\n",
        "X_train = []\n",
        "y_train = []\n",
        "\n",
        "NUMBER_OF_CLASSES = 10\n",
        "TRAIN_SET_SIZE = 1000\n",
        "TEST_SET_SIZE = 200\n",
        "\n",
        "# wybór równolicznych podzbiorów każdej klasy\n",
        "for i in range(NUMBER_OF_CLASSES):\n",
        "  # sorted_classes[i] to wektor zawierający wszystkie elementy należące do klasy i\n",
        "  sorted_classes.append(train_images[train_labels == i])\n",
        "\n",
        "  # do zbioru wybieram po równo elementów z każdej klasy\n",
        "  X_train = X_train + random.sample(list(sorted_classes[i]), TRAIN_SET_SIZE // NUMBER_OF_CLASSES)\n",
        "  # dodaję odpowiadającą liczbę etykiet klas\n",
        "  y_train = y_train + [i for j in range(TRAIN_SET_SIZE // NUMBER_OF_CLASSES)]\n",
        "\n",
        "# na wybranej próbce robimy shuffle\n",
        "train_data = list(zip(X_train, y_train))\n",
        "random.shuffle(train_data)\n",
        "X_train, y_train = zip(*train_data)\n",
        "\n",
        "# zbiór treningowy zawierający TRAIN_SET_SIZE elementów\n",
        "print(\"Rozmiar zbioru treningowego: \", len(X_train))\n",
        "\n",
        "X_test = test_images[0:TEST_SET_SIZE]\n",
        "y_test = test_labels[0:TEST_SET_SIZE]\n",
        "\n",
        "# zbiór testowy zawierający TEST_SET_SIZE elementów\n",
        "print(\"Rozmiar zbioru testowego: \", len(X_test))\n",
        "\n",
        "X_train_deskewed = np.asarray([deskew(im) for im in X_train])\n",
        "X_test_deskewed = np.asarray([deskew(im) for im in X_test])"
      ],
      "execution_count": 0,
      "outputs": [
        {
          "output_type": "stream",
          "text": [
            "Rozmiar zbioru treningowego:  1000\n",
            "Rozmiar zbioru testowego:  200\n"
          ],
          "name": "stdout"
        }
      ]
    },
    {
      "cell_type": "markdown",
      "metadata": {
        "id": "Eg8zHBHaCmOj",
        "colab_type": "text"
      },
      "source": [
        "# 2. Trening klasycznych klasyfikatorów i sieci dla danych bez wyrównania\n"
      ]
    },
    {
      "cell_type": "markdown",
      "metadata": {
        "id": "ZNAhY88ALKdW",
        "colab_type": "text"
      },
      "source": [
        "## Trening bez wyrównania danych"
      ]
    },
    {
      "cell_type": "code",
      "metadata": {
        "id": "iMotEfJXc7z7",
        "colab_type": "code",
        "colab": {}
      },
      "source": [
        "X_train_hogdata = [openCVHOG(im) for im in X_train]\n",
        "X_train_hogdata = np.float32(X_train_hogdata).reshape(-1,81)\n",
        "\n",
        "X_test_hogdata = [openCVHOG(im) for im in X_test]\n",
        "X_test_hogdata = np.float32(X_test_hogdata).reshape(-1,81)"
      ],
      "execution_count": 0,
      "outputs": []
    },
    {
      "cell_type": "markdown",
      "metadata": {
        "id": "3SzImmymLOnD",
        "colab_type": "text"
      },
      "source": [
        "### SVM"
      ]
    },
    {
      "cell_type": "code",
      "metadata": {
        "id": "vSuecRLqPwuC",
        "colab_type": "code",
        "outputId": "fd4fba4e-c9c9-403e-bece-5b52574319ac",
        "colab": {
          "base_uri": "https://localhost:8080/",
          "height": 634
        }
      },
      "source": [
        "parameters = {'kernel':('linear', 'poly', 'rbf', 'sigmoid'), 'C':[0.1, 1, 2, 5]}\n",
        "model = GridSearchCV(svm.SVC(), parameters, cv=5, scoring='accuracy', return_train_score=True)\n",
        "model = model.fit(X_train_hogdata, y_train)\n",
        "\n",
        "y_pred = model.predict(X_test_hogdata)\n",
        "svc_hog_accuracy = accuracy_score(y_test, y_pred)\n",
        "print(model.best_params_)\n",
        "print('Acc=', svc_hog_accuracy)\n",
        "print(classification_report(y_test, y_pred))\n",
        "plot_confusion_matrix(model, X_test_hogdata, y_test)"
      ],
      "execution_count": 0,
      "outputs": [
        {
          "output_type": "stream",
          "text": [
            "{'C': 5, 'kernel': 'rbf'}\n",
            "Acc= 0.94\n",
            "              precision    recall  f1-score   support\n",
            "\n",
            "           0       1.00      1.00      1.00        17\n",
            "           1       0.97      1.00      0.98        28\n",
            "           2       0.88      0.94      0.91        16\n",
            "           3       0.93      0.88      0.90        16\n",
            "           4       1.00      0.89      0.94        28\n",
            "           5       1.00      1.00      1.00        20\n",
            "           6       0.91      1.00      0.95        20\n",
            "           7       0.92      0.96      0.94        24\n",
            "           8       0.75      0.90      0.82        10\n",
            "           9       0.94      0.81      0.87        21\n",
            "\n",
            "    accuracy                           0.94       200\n",
            "   macro avg       0.93      0.94      0.93       200\n",
            "weighted avg       0.94      0.94      0.94       200\n",
            "\n"
          ],
          "name": "stdout"
        },
        {
          "output_type": "execute_result",
          "data": {
            "text/plain": [
              "<sklearn.metrics._plot.confusion_matrix.ConfusionMatrixDisplay at 0x7f3719ce10f0>"
            ]
          },
          "metadata": {
            "tags": []
          },
          "execution_count": 8
        },
        {
          "output_type": "display_data",
          "data": {
            "image/png": "[encoded data removed]",
            "text/plain": [
              "<Figure size 432x288 with 2 Axes>"
            ]
          },
          "metadata": {
            "tags": []
          }
        }
      ]
    },
    {
      "cell_type": "markdown",
      "metadata": {
        "id": "NGrZldGfLuxg",
        "colab_type": "text"
      },
      "source": [
        "### Random Forest Classifier"
      ]
    },
    {
      "cell_type": "code",
      "metadata": {
        "id": "ITzzsbRMB3jl",
        "colab_type": "code",
        "outputId": "08cb9cef-570c-4e59-b600-3e5aa368b05e",
        "colab": {
          "base_uri": "https://localhost:8080/",
          "height": 634
        }
      },
      "source": [
        "parameters = {'max_depth':[5, 10, 50], 'max_leaf_nodes': [2,3,None], 'min_samples_leaf': [1, 2, 4, 6]}\n",
        "model = GridSearchCV(RandomForestClassifier(), parameters, cv=5, scoring='accuracy')\n",
        "model = model.fit(X_train_hogdata, y_train)\n",
        "\n",
        "y_pred = model.predict(X_test_hogdata)\n",
        "\n",
        "rf_hog_accuracy = accuracy_score(y_test, y_pred)\n",
        "print(model.best_params_)\n",
        "print('Acc=', rf_hog_accuracy)\n",
        "print(classification_report(y_test, y_pred))\n",
        "plot_confusion_matrix(model, X_test_hogdata, y_test)"
      ],
      "execution_count": 0,
      "outputs": [
        {
          "output_type": "stream",
          "text": [
            "{'max_depth': 50, 'max_leaf_nodes': None, 'min_samples_leaf': 2}\n",
            "Acc= 0.925\n",
            "              precision    recall  f1-score   support\n",
            "\n",
            "           0       1.00      1.00      1.00        17\n",
            "           1       1.00      1.00      1.00        28\n",
            "           2       0.83      0.94      0.88        16\n",
            "           3       0.93      0.81      0.87        16\n",
            "           4       1.00      0.89      0.94        28\n",
            "           5       0.90      0.90      0.90        20\n",
            "           6       0.91      1.00      0.95        20\n",
            "           7       0.96      1.00      0.98        24\n",
            "           8       0.64      0.90      0.75        10\n",
            "           9       0.94      0.76      0.84        21\n",
            "\n",
            "    accuracy                           0.93       200\n",
            "   macro avg       0.91      0.92      0.91       200\n",
            "weighted avg       0.93      0.93      0.93       200\n",
            "\n"
          ],
          "name": "stdout"
        },
        {
          "output_type": "execute_result",
          "data": {
            "text/plain": [
              "<sklearn.metrics._plot.confusion_matrix.ConfusionMatrixDisplay at 0x7f3719ce1208>"
            ]
          },
          "metadata": {
            "tags": []
          },
          "execution_count": 9
        },
        {
          "output_type": "display_data",
          "data": {
            "image/png": "[encoded data removed]",
            "text/plain": [
              "<Figure size 432x288 with 2 Axes>"
            ]
          },
          "metadata": {
            "tags": []
          }
        }
      ]
    },
    {
      "cell_type": "markdown",
      "metadata": {
        "id": "Thw8INr1Mfv0",
        "colab_type": "text"
      },
      "source": [
        "### Gradient Boosting"
      ]
    },
    {
      "cell_type": "code",
      "metadata": {
        "id": "Uk9sWCo_Mkm7",
        "colab_type": "code",
        "outputId": "3026f1d8-1bd3-4dff-842c-5c3b793082be",
        "colab": {
          "base_uri": "https://localhost:8080/",
          "height": 634
        }
      },
      "source": [
        "parameters = {'min_child_weight': [0.1, 1, 5], 'max_depth': [3, 4, 5]}\n",
        "model = GridSearchCV(XGBClassifier(), parameters, cv=5, scoring='accuracy')\n",
        "model = model.fit(X_train_hogdata, y_train)\n",
        "\n",
        "y_pred = model.predict(X_test_hogdata)\n",
        "\n",
        "xgbc_hog_accuracy = accuracy_score(y_test, y_pred)\n",
        "print(model.best_params_)\n",
        "print('Acc=', xgbc_hog_accuracy)\n",
        "print(classification_report(y_test, y_pred))\n",
        "plot_confusion_matrix(model, X_test_hogdata, y_test)"
      ],
      "execution_count": 0,
      "outputs": [
        {
          "output_type": "stream",
          "text": [
            "{'max_depth': 5, 'min_child_weight': 5}\n",
            "Acc= 0.905\n",
            "              precision    recall  f1-score   support\n",
            "\n",
            "           0       1.00      1.00      1.00        17\n",
            "           1       1.00      0.96      0.98        28\n",
            "           2       0.79      0.94      0.86        16\n",
            "           3       0.81      0.81      0.81        16\n",
            "           4       1.00      0.89      0.94        28\n",
            "           5       0.85      0.85      0.85        20\n",
            "           6       0.87      1.00      0.93        20\n",
            "           7       0.96      0.92      0.94        24\n",
            "           8       0.69      0.90      0.78        10\n",
            "           9       0.94      0.76      0.84        21\n",
            "\n",
            "    accuracy                           0.91       200\n",
            "   macro avg       0.89      0.90      0.89       200\n",
            "weighted avg       0.91      0.91      0.91       200\n",
            "\n"
          ],
          "name": "stdout"
        },
        {
          "output_type": "execute_result",
          "data": {
            "text/plain": [
              "<sklearn.metrics._plot.confusion_matrix.ConfusionMatrixDisplay at 0x7f367b79b518>"
            ]
          },
          "metadata": {
            "tags": []
          },
          "execution_count": 10
        },
        {
          "output_type": "display_data",
          "data": {
            "image/png": "[encoded data removed]",
            "text/plain": [
              "<Figure size 432x288 with 2 Axes>"
            ]
          },
          "metadata": {
            "tags": []
          }
        }
      ]
    },
    {
      "cell_type": "markdown",
      "metadata": {
        "id": "NPiacOxaxJI9",
        "colab_type": "text"
      },
      "source": [
        "### Neural network"
      ]
    },
    {
      "cell_type": "code",
      "metadata": {
        "id": "cXrJ-fn9xMln",
        "colab_type": "code",
        "colab": {}
      },
      "source": [
        "X_train_neural = np.array(X_train).reshape((TRAIN_SET_SIZE, 28 * 28))\n",
        "X_train_neural = X_train_neural.astype('float32') / 255\n",
        "\n",
        "X_test_neural = np.array(X_test).reshape((TEST_SET_SIZE, 28 * 28))\n",
        "X_test_neural = X_test_neural.astype('float32') / 255\n",
        "\n",
        "y_train_neural = to_categorical(y_train)\n",
        "y_test_neural = to_categorical(y_test)"
      ],
      "execution_count": 0,
      "outputs": []
    },
    {
      "cell_type": "code",
      "metadata": {
        "id": "iLtBc5TO2Ncp",
        "colab_type": "code",
        "outputId": "d83bf457-ea9e-47e7-8c9b-32f3807442ae",
        "colab": {
          "base_uri": "https://localhost:8080/",
          "height": 605
        }
      },
      "source": [
        "epochs = [1, 5, 10]\n",
        "activations = ['linear', 'relu']\n",
        "optimizers = [ 'adam', 'rmsprop' ]\n",
        "parameters = dict(epochs=epochs, activation=activations, optimizer=optimizers)\n",
        "\n",
        "network = KerasClassifier(build_fn=create_model, verbose=0)\n",
        "model = GridSearchCV(estimator=network, param_grid=parameters, cv=5)\n",
        "model.fit(X_train_neural, y_train_neural)\n",
        "\n",
        "y_pred = model.predict(X_test_neural)\n",
        "\n",
        "neural_accuracy = accuracy_score(y_test, y_pred)\n",
        "print(model.best_params_)\n",
        "print('Acc=', neural_accuracy)\n",
        "print(classification_report(y_test, y_pred))\n",
        "print(confusion_matrix(y_test, y_pred))"
      ],
      "execution_count": 0,
      "outputs": [
        {
          "output_type": "stream",
          "text": [
            "WARNING:tensorflow:From /usr/local/lib/python3.6/dist-packages/tensorflow/python/keras/wrappers/scikit_learn.py:241: Sequential.predict_classes (from tensorflow.python.keras.engine.sequential) is deprecated and will be removed after 2021-01-01.\n",
            "Instructions for updating:\n",
            "Please use instead:* `np.argmax(model.predict(x), axis=-1)`,   if your model does multi-class classification   (e.g. if it uses a `softmax` last-layer activation).* `(model.predict(x) > 0.5).astype(\"int32\")`,   if your model does binary classification   (e.g. if it uses a `sigmoid` last-layer activation).\n",
            "{'activation': 'relu', 'epochs': 10, 'optimizer': 'adam'}\n",
            "Acc= 0.915\n",
            "              precision    recall  f1-score   support\n",
            "\n",
            "           0       1.00      1.00      1.00        17\n",
            "           1       1.00      0.93      0.96        28\n",
            "           2       0.92      0.69      0.79        16\n",
            "           3       0.94      0.94      0.94        16\n",
            "           4       0.88      1.00      0.93        28\n",
            "           5       0.86      0.90      0.88        20\n",
            "           6       0.91      1.00      0.95        20\n",
            "           7       0.88      0.88      0.88        24\n",
            "           8       1.00      1.00      1.00        10\n",
            "           9       0.85      0.81      0.83        21\n",
            "\n",
            "    accuracy                           0.92       200\n",
            "   macro avg       0.92      0.91      0.92       200\n",
            "weighted avg       0.92      0.92      0.91       200\n",
            "\n",
            "[[17  0  0  0  0  0  0  0  0  0]\n",
            " [ 0 26  0  0  0  2  0  0  0  0]\n",
            " [ 0  0 11  1  0  0  1  2  0  1]\n",
            " [ 0  0  0 15  0  1  0  0  0  0]\n",
            " [ 0  0  0  0 28  0  0  0  0  0]\n",
            " [ 0  0  0  0  1 18  1  0  0  0]\n",
            " [ 0  0  0  0  0  0 20  0  0  0]\n",
            " [ 0  0  0  0  1  0  0 21  0  2]\n",
            " [ 0  0  0  0  0  0  0  0 10  0]\n",
            " [ 0  0  1  0  2  0  0  1  0 17]]\n"
          ],
          "name": "stdout"
        }
      ]
    },
    {
      "cell_type": "markdown",
      "metadata": {
        "id": "hrRxMUXRcXVR",
        "colab_type": "text"
      },
      "source": [
        "## Trening dla danych wyrównanych\n",
        "\n"
      ]
    },
    {
      "cell_type": "code",
      "metadata": {
        "id": "5SooSSfvdDPd",
        "colab_type": "code",
        "colab": {}
      },
      "source": [
        "X_train_hogdata_deskewed = [openCVHOG(im) for im in X_train_deskewed]\n",
        "X_train_hogdata_deskewed = np.float32(X_train_hogdata_deskewed).reshape(-1,81)\n",
        "\n",
        "X_test_hogdata_deskewed = [openCVHOG(im) for im in X_test_deskewed]\n",
        "X_test_hogdata_deskewed = np.float32(X_test_hogdata_deskewed).reshape(-1,81)"
      ],
      "execution_count": 0,
      "outputs": []
    },
    {
      "cell_type": "markdown",
      "metadata": {
        "id": "oB9NDrSgcge9",
        "colab_type": "text"
      },
      "source": [
        "### SVM"
      ]
    },
    {
      "cell_type": "code",
      "metadata": {
        "id": "z1qjqDvRcfi2",
        "colab_type": "code",
        "outputId": "0117ca44-ea07-445a-a475-803afde74b5f",
        "colab": {
          "base_uri": "https://localhost:8080/",
          "height": 634
        }
      },
      "source": [
        "parameters = {'kernel':('linear', 'poly', 'rbf', 'sigmoid'), 'C':[0.1, 1, 2, 5]}\n",
        "model = GridSearchCV(svm.SVC(), parameters, cv=5, scoring='accuracy')\n",
        "model = model.fit(X_train_hogdata_deskewed, y_train)\n",
        "\n",
        "y_pred = model.predict(X_test_hogdata_deskewed)\n",
        "\n",
        "svc_hog_deskewed_accuracy = accuracy_score(y_test, y_pred)\n",
        "print(model.best_params_)\n",
        "print('Acc=', svc_hog_deskewed_accuracy)\n",
        "print(classification_report(y_test, y_pred))\n",
        "plot_confusion_matrix(model, X_test_hogdata_deskewed, y_test)"
      ],
      "execution_count": 0,
      "outputs": [
        {
          "output_type": "stream",
          "text": [
            "{'C': 5, 'kernel': 'rbf'}\n",
            "Acc= 0.965\n",
            "              precision    recall  f1-score   support\n",
            "\n",
            "           0       1.00      1.00      1.00        17\n",
            "           1       1.00      1.00      1.00        28\n",
            "           2       0.88      0.94      0.91        16\n",
            "           3       0.94      0.94      0.94        16\n",
            "           4       1.00      0.96      0.98        28\n",
            "           5       1.00      1.00      1.00        20\n",
            "           6       0.95      1.00      0.98        20\n",
            "           7       0.96      0.96      0.96        24\n",
            "           8       0.82      0.90      0.86        10\n",
            "           9       1.00      0.90      0.95        21\n",
            "\n",
            "    accuracy                           0.96       200\n",
            "   macro avg       0.95      0.96      0.96       200\n",
            "weighted avg       0.97      0.96      0.97       200\n",
            "\n"
          ],
          "name": "stdout"
        },
        {
          "output_type": "execute_result",
          "data": {
            "text/plain": [
              "<sklearn.metrics._plot.confusion_matrix.ConfusionMatrixDisplay at 0x7f3668870d68>"
            ]
          },
          "metadata": {
            "tags": []
          },
          "execution_count": 14
        },
        {
          "output_type": "display_data",
          "data": {
            "image/png": "[encoded data removed]",
            "text/plain": [
              "<Figure size 432x288 with 2 Axes>"
            ]
          },
          "metadata": {
            "tags": []
          }
        }
      ]
    },
    {
      "cell_type": "markdown",
      "metadata": {
        "id": "1t39U2Nqctlt",
        "colab_type": "text"
      },
      "source": [
        "### Random Forest Classifier"
      ]
    },
    {
      "cell_type": "code",
      "metadata": {
        "id": "E8ScVnq1dBvY",
        "colab_type": "code",
        "outputId": "4e31b11d-7f90-467f-d33e-ad21f409eac7",
        "colab": {
          "base_uri": "https://localhost:8080/",
          "height": 634
        }
      },
      "source": [
        "parameters = {'max_depth':[5, 10, 50], 'max_leaf_nodes': [2,3,None], 'min_samples_leaf': [1, 2, 4, 6]}\n",
        "model = GridSearchCV(RandomForestClassifier(), parameters, cv=5, scoring='accuracy')\n",
        "model = model.fit(X_train_hogdata_deskewed, y_train)\n",
        "\n",
        "y_pred = model.predict(X_test_hogdata_deskewed)\n",
        "\n",
        "rf_hog_accuracy = accuracy_score(y_test, y_pred)\n",
        "print(model.best_params_)\n",
        "print('Acc=', rf_hog_accuracy)\n",
        "print(classification_report(y_test, y_pred))\n",
        "plot_confusion_matrix(model, X_test_hogdata_deskewed, y_test)"
      ],
      "execution_count": 0,
      "outputs": [
        {
          "output_type": "stream",
          "text": [
            "{'max_depth': 50, 'max_leaf_nodes': None, 'min_samples_leaf': 1}\n",
            "Acc= 0.945\n",
            "              precision    recall  f1-score   support\n",
            "\n",
            "           0       1.00      1.00      1.00        17\n",
            "           1       1.00      1.00      1.00        28\n",
            "           2       0.89      1.00      0.94        16\n",
            "           3       0.88      0.94      0.91        16\n",
            "           4       1.00      0.93      0.96        28\n",
            "           5       1.00      0.95      0.97        20\n",
            "           6       0.87      1.00      0.93        20\n",
            "           7       1.00      0.92      0.96        24\n",
            "           8       0.69      0.90      0.78        10\n",
            "           9       1.00      0.81      0.89        21\n",
            "\n",
            "    accuracy                           0.94       200\n",
            "   macro avg       0.93      0.94      0.94       200\n",
            "weighted avg       0.95      0.94      0.95       200\n",
            "\n"
          ],
          "name": "stdout"
        },
        {
          "output_type": "execute_result",
          "data": {
            "text/plain": [
              "<sklearn.metrics._plot.confusion_matrix.ConfusionMatrixDisplay at 0x7f366cd5f358>"
            ]
          },
          "metadata": {
            "tags": []
          },
          "execution_count": 15
        },
        {
          "output_type": "display_data",
          "data": {
            "image/png": "[encoded data removed]",
            "text/plain": [
              "<Figure size 432x288 with 2 Axes>"
            ]
          },
          "metadata": {
            "tags": []
          }
        }
      ]
    },
    {
      "cell_type": "markdown",
      "metadata": {
        "id": "YPuiXTG0dH5O",
        "colab_type": "text"
      },
      "source": [
        "### Gradient Boosting Classifier"
      ]
    },
    {
      "cell_type": "code",
      "metadata": {
        "id": "Dnj9m_ZGdHHv",
        "colab_type": "code",
        "outputId": "888ec667-cec1-4dd9-812c-e424a752e7dd",
        "colab": {
          "base_uri": "https://localhost:8080/",
          "height": 634
        }
      },
      "source": [
        "parameters = {'min_child_weight': [0.1, 1, 5], 'max_depth': [3, 4, 5]}\n",
        "model = GridSearchCV(XGBClassifier(), parameters, cv=5, scoring='accuracy')\n",
        "model = model.fit(X_train_hogdata_deskewed, y_train)\n",
        "\n",
        "y_pred = model.predict(X_test_hogdata_deskewed)\n",
        "\n",
        "xgbc_hog_accuracy = accuracy_score(y_test, y_pred)\n",
        "print(model.best_params_)\n",
        "print('Acc=', xgbc_hog_accuracy)\n",
        "print(classification_report(y_test, y_pred))\n",
        "plot_confusion_matrix(model, X_test_hogdata_deskewed, y_test)"
      ],
      "execution_count": 0,
      "outputs": [
        {
          "output_type": "stream",
          "text": [
            "{'max_depth': 3, 'min_child_weight': 0.1}\n",
            "Acc= 0.935\n",
            "              precision    recall  f1-score   support\n",
            "\n",
            "           0       1.00      1.00      1.00        17\n",
            "           1       1.00      1.00      1.00        28\n",
            "           2       0.93      0.88      0.90        16\n",
            "           3       0.88      0.88      0.88        16\n",
            "           4       1.00      0.93      0.96        28\n",
            "           5       0.95      1.00      0.98        20\n",
            "           6       0.87      1.00      0.93        20\n",
            "           7       1.00      0.96      0.98        24\n",
            "           8       0.69      0.90      0.78        10\n",
            "           9       0.89      0.76      0.82        21\n",
            "\n",
            "    accuracy                           0.94       200\n",
            "   macro avg       0.92      0.93      0.92       200\n",
            "weighted avg       0.94      0.94      0.94       200\n",
            "\n"
          ],
          "name": "stdout"
        },
        {
          "output_type": "execute_result",
          "data": {
            "text/plain": [
              "<sklearn.metrics._plot.confusion_matrix.ConfusionMatrixDisplay at 0x7f3667fd44e0>"
            ]
          },
          "metadata": {
            "tags": []
          },
          "execution_count": 17
        },
        {
          "output_type": "display_data",
          "data": {
            "image/png": "[encoded data removed]",
            "text/plain": [
              "<Figure size 432x288 with 2 Axes>"
            ]
          },
          "metadata": {
            "tags": []
          }
        }
      ]
    },
    {
      "cell_type": "markdown",
      "metadata": {
        "id": "-JqZc2VY2DzX",
        "colab_type": "text"
      },
      "source": [
        "### Neural network"
      ]
    },
    {
      "cell_type": "code",
      "metadata": {
        "id": "WUfylgfq2Lpu",
        "colab_type": "code",
        "colab": {}
      },
      "source": [
        "X_train_neural_deskewed = np.array(X_train_deskewed).reshape((TRAIN_SET_SIZE, 28 * 28))\n",
        "X_train_neural_deskewed = X_train_neural_deskewed.astype('float32') / 255\n",
        "\n",
        "X_test_neural_deskewed = np.array(X_test_deskewed).reshape((TEST_SET_SIZE, 28 * 28))\n",
        "X_test_neural_deskewed = X_test_neural_deskewed.astype('float32') / 255\n",
        "\n",
        "y_train_neural = to_categorical(y_train)\n",
        "y_test_neural = to_categorical(y_test)"
      ],
      "execution_count": 0,
      "outputs": []
    },
    {
      "cell_type": "code",
      "metadata": {
        "id": "wy5RqBwu2f9Y",
        "colab_type": "code",
        "outputId": "7dfca244-cd2d-4e85-cc82-f8d67027b38b",
        "colab": {
          "base_uri": "https://localhost:8080/",
          "height": 532
        }
      },
      "source": [
        "epochs = [1, 5, 10]\n",
        "activations = ['linear', 'relu']\n",
        "optimizers = [ 'adam', 'rmsprop' ]\n",
        "parameters = dict(epochs=epochs, activation=activations, optimizer=optimizers)\n",
        "\n",
        "network = KerasClassifier(build_fn=create_model, verbose=0)\n",
        "model = GridSearchCV(estimator=network, param_grid=parameters, cv=5)\n",
        "model.fit(X_train_neural_deskewed, y_train_neural)\n",
        "\n",
        "y_pred = model.predict(X_test_neural_deskewed)\n",
        "\n",
        "neural_accuracy_deskewed = accuracy_score(y_test, y_pred)\n",
        "print(model.best_params_)\n",
        "print('Acc=', neural_accuracy_deskewed)\n",
        "print(classification_report(y_test, y_pred))\n",
        "print(confusion_matrix(y_test, y_pred))"
      ],
      "execution_count": 0,
      "outputs": [
        {
          "output_type": "stream",
          "text": [
            "{'activation': 'relu', 'epochs': 10, 'optimizer': 'adam'}\n",
            "Acc= 0.95\n",
            "              precision    recall  f1-score   support\n",
            "\n",
            "           0       1.00      1.00      1.00        17\n",
            "           1       1.00      1.00      1.00        28\n",
            "           2       1.00      0.81      0.90        16\n",
            "           3       1.00      0.94      0.97        16\n",
            "           4       1.00      0.96      0.98        28\n",
            "           5       0.94      0.85      0.89        20\n",
            "           6       0.91      1.00      0.95        20\n",
            "           7       0.92      1.00      0.96        24\n",
            "           8       0.82      0.90      0.86        10\n",
            "           9       0.87      0.95      0.91        21\n",
            "\n",
            "    accuracy                           0.95       200\n",
            "   macro avg       0.95      0.94      0.94       200\n",
            "weighted avg       0.95      0.95      0.95       200\n",
            "\n",
            "[[17  0  0  0  0  0  0  0  0  0]\n",
            " [ 0 28  0  0  0  0  0  0  0  0]\n",
            " [ 0  0 13  0  0  0  0  0  1  2]\n",
            " [ 0  0  0 15  0  0  0  0  0  1]\n",
            " [ 0  0  0  0 27  0  0  0  1  0]\n",
            " [ 0  0  0  0  0 17  2  1  0  0]\n",
            " [ 0  0  0  0  0  0 20  0  0  0]\n",
            " [ 0  0  0  0  0  0  0 24  0  0]\n",
            " [ 0  0  0  0  0  1  0  0  9  0]\n",
            " [ 0  0  0  0  0  0  0  1  0 20]]\n"
          ],
          "name": "stdout"
        }
      ]
    },
    {
      "cell_type": "markdown",
      "metadata": {
        "id": "p0FpsIHjDxqT",
        "colab_type": "text"
      },
      "source": [
        "# 3. Trening klasycznych klasyfikatorów dla danych surowych wgranych na wejście klasyfikatora"
      ]
    },
    {
      "cell_type": "markdown",
      "metadata": {
        "colab_type": "text",
        "id": "VD-YWmji4Fne"
      },
      "source": [
        "## Trening bez wyrównania danych"
      ]
    },
    {
      "cell_type": "code",
      "metadata": {
        "colab_type": "code",
        "id": "1MCX9Q8j4Fnk",
        "colab": {}
      },
      "source": [
        "X_train_nonhog = np.float32(X_train).reshape(-1,28*28)\n",
        "\n",
        "X_test_nonhog = np.float32(X_test).reshape(-1,28*28)"
      ],
      "execution_count": 0,
      "outputs": []
    },
    {
      "cell_type": "markdown",
      "metadata": {
        "colab_type": "text",
        "id": "TJ3526uH4Fny"
      },
      "source": [
        "### SVM"
      ]
    },
    {
      "cell_type": "code",
      "metadata": {
        "colab_type": "code",
        "outputId": "4d7a7a87-6ce1-4969-c8e5-8d2f8a154541",
        "id": "1wZuX2EO4Fn0",
        "colab": {
          "base_uri": "https://localhost:8080/",
          "height": 634
        }
      },
      "source": [
        "parameters = {'kernel':('linear', 'poly', 'rbf', 'sigmoid'), 'C':[0.1, 1, 2, 5]}\n",
        "model = GridSearchCV(svm.SVC(), parameters, cv=5, scoring='accuracy')\n",
        "model = model.fit(X_train_nonhog, y_train)\n",
        "\n",
        "y_pred = model.predict(X_test_nonhog)\n",
        "svc_hog_accuracy = accuracy_score(y_test, y_pred)\n",
        "print(model.best_params_)\n",
        "print('Acc=', svc_hog_accuracy)\n",
        "print(classification_report(y_test, y_pred))\n",
        "plot_confusion_matrix(model, X_test_nonhog, y_test)"
      ],
      "execution_count": 0,
      "outputs": [
        {
          "output_type": "stream",
          "text": [
            "{'C': 5, 'kernel': 'rbf'}\n",
            "Acc= 0.95\n",
            "              precision    recall  f1-score   support\n",
            "\n",
            "           0       1.00      1.00      1.00        17\n",
            "           1       1.00      1.00      1.00        28\n",
            "           2       1.00      0.81      0.90        16\n",
            "           3       0.93      0.88      0.90        16\n",
            "           4       0.93      0.96      0.95        28\n",
            "           5       0.90      0.95      0.93        20\n",
            "           6       0.95      1.00      0.98        20\n",
            "           7       0.92      0.96      0.94        24\n",
            "           8       1.00      1.00      1.00        10\n",
            "           9       0.90      0.90      0.90        21\n",
            "\n",
            "    accuracy                           0.95       200\n",
            "   macro avg       0.95      0.95      0.95       200\n",
            "weighted avg       0.95      0.95      0.95       200\n",
            "\n"
          ],
          "name": "stdout"
        },
        {
          "output_type": "execute_result",
          "data": {
            "text/plain": [
              "<sklearn.metrics._plot.confusion_matrix.ConfusionMatrixDisplay at 0x7f36867c1f98>"
            ]
          },
          "metadata": {
            "tags": []
          },
          "execution_count": 21
        },
        {
          "output_type": "display_data",
          "data": {
            "image/png": "[encoded data removed]",
            "text/plain": [
              "<Figure size 432x288 with 2 Axes>"
            ]
          },
          "metadata": {
            "tags": []
          }
        }
      ]
    },
    {
      "cell_type": "markdown",
      "metadata": {
        "colab_type": "text",
        "id": "EPsCsyvd4Fn6"
      },
      "source": [
        "### Random Forest Classifier"
      ]
    },
    {
      "cell_type": "code",
      "metadata": {
        "colab_type": "code",
        "outputId": "10b3003e-30f9-4554-ca46-3b70cda61bae",
        "id": "ERNxR07B4Fn7",
        "colab": {
          "base_uri": "https://localhost:8080/",
          "height": 634
        }
      },
      "source": [
        "parameters = {'max_depth':[5, 10, 50], 'max_leaf_nodes': [2,3,None], 'min_samples_leaf': [1, 2, 4, 6]}\n",
        "model = GridSearchCV(RandomForestClassifier(), parameters, cv=5, scoring='accuracy')\n",
        "model = model.fit(X_train_nonhog, y_train)\n",
        "\n",
        "y_pred = model.predict(X_test_nonhog)\n",
        "\n",
        "rf_hog_accuracy = accuracy_score(y_test, y_pred)\n",
        "print(model.best_params_)\n",
        "print('Acc=', rf_hog_accuracy)\n",
        "print(classification_report(y_test, y_pred))\n",
        "plot_confusion_matrix(model, X_test_nonhog, y_test)"
      ],
      "execution_count": 0,
      "outputs": [
        {
          "output_type": "stream",
          "text": [
            "{'max_depth': 10, 'max_leaf_nodes': None, 'min_samples_leaf': 1}\n",
            "Acc= 0.895\n",
            "              precision    recall  f1-score   support\n",
            "\n",
            "           0       0.89      1.00      0.94        17\n",
            "           1       0.97      1.00      0.98        28\n",
            "           2       0.69      0.69      0.69        16\n",
            "           3       0.92      0.75      0.83        16\n",
            "           4       0.87      0.93      0.90        28\n",
            "           5       0.95      0.90      0.92        20\n",
            "           6       0.90      0.90      0.90        20\n",
            "           7       0.96      0.92      0.94        24\n",
            "           8       0.90      0.90      0.90        10\n",
            "           9       0.86      0.86      0.86        21\n",
            "\n",
            "    accuracy                           0.90       200\n",
            "   macro avg       0.89      0.88      0.89       200\n",
            "weighted avg       0.90      0.90      0.89       200\n",
            "\n"
          ],
          "name": "stdout"
        },
        {
          "output_type": "execute_result",
          "data": {
            "text/plain": [
              "<sklearn.metrics._plot.confusion_matrix.ConfusionMatrixDisplay at 0x7f367b78ee48>"
            ]
          },
          "metadata": {
            "tags": []
          },
          "execution_count": 22
        },
        {
          "output_type": "display_data",
          "data": {
            "image/png": "[encoded data removed]",
            "text/plain": [
              "<Figure size 432x288 with 2 Axes>"
            ]
          },
          "metadata": {
            "tags": []
          }
        }
      ]
    },
    {
      "cell_type": "markdown",
      "metadata": {
        "colab_type": "text",
        "id": "KwA_TTON4FoA"
      },
      "source": [
        "### Gradient Boosting"
      ]
    },
    {
      "cell_type": "code",
      "metadata": {
        "colab_type": "code",
        "id": "q_msp5KI4FoB",
        "outputId": "37037317-9448-4065-dd79-53116048dd11",
        "colab": {
          "base_uri": "https://localhost:8080/",
          "height": 638
        }
      },
      "source": [
        "parameters = {'min_child_weight': [0.1, 1, 5], 'max_depth': [3, 4, 5]}\n",
        "model = GridSearchCV(XGBClassifier(), parameters, cv=5, scoring='accuracy')\n",
        "model = model.fit(X_train_nonhog, y_train)\n",
        "\n",
        "y_pred = model.predict(X_test_nonhog)\n",
        "\n",
        "xgbc_hog_accuracy = accuracy_score(y_test, y_pred)\n",
        "print(model.best_params_)\n",
        "print('Acc=', xgbc_hog_accuracy)\n",
        "print(classification_report(y_test, y_pred))\n",
        "plot_confusion_matrix(model, X_test_nonhog, y_test)"
      ],
      "execution_count": 0,
      "outputs": [
        {
          "output_type": "stream",
          "text": [
            "{'max_depth': 5, 'min_child_weight': 1}\n",
            "Acc= 0.86\n",
            "              precision    recall  f1-score   support\n",
            "\n",
            "           0       1.00      1.00      1.00        17\n",
            "           1       0.96      0.89      0.93        28\n",
            "           2       0.83      0.62      0.71        16\n",
            "           3       0.71      0.94      0.81        16\n",
            "           4       0.86      0.89      0.88        28\n",
            "           5       0.95      0.90      0.92        20\n",
            "           6       0.81      0.85      0.83        20\n",
            "           7       0.86      0.79      0.83        24\n",
            "           8       1.00      1.00      1.00        10\n",
            "           9       0.70      0.76      0.73        21\n",
            "\n",
            "    accuracy                           0.86       200\n",
            "   macro avg       0.87      0.87      0.86       200\n",
            "weighted avg       0.87      0.86      0.86       200\n",
            "\n"
          ],
          "name": "stdout"
        },
        {
          "output_type": "execute_result",
          "data": {
            "text/plain": [
              "<sklearn.metrics._plot.confusion_matrix.ConfusionMatrixDisplay at 0x7f36711ce668>"
            ]
          },
          "metadata": {
            "tags": []
          },
          "execution_count": 23
        },
        {
          "output_type": "display_data",
          "data": {
            "image/png": "[encoded data removed]",
            "text/plain": [
              "<Figure size 432x288 with 2 Axes>"
            ]
          },
          "metadata": {
            "tags": []
          }
        }
      ]
    },
    {
      "cell_type": "markdown",
      "metadata": {
        "colab_type": "text",
        "id": "O5jgZpCt4FoL"
      },
      "source": [
        "## Trening dla danych wyrównanych\n",
        "\n"
      ]
    },
    {
      "cell_type": "code",
      "metadata": {
        "colab_type": "code",
        "id": "AZG5AEOX4FoM",
        "outputId": "caa85d0c-aa30-4845-a3c0-042bac9b8655",
        "colab": {
          "base_uri": "https://localhost:8080/",
          "height": 70
        }
      },
      "source": [
        "X_train_nonhog_deskewed = np.float32(X_train_deskewed).reshape(-1,28*28)\n",
        "\n",
        "X_test_nonhog_deskewed = np.float32(X_test_deskewed).reshape(-1,28*28)"
      ],
      "execution_count": 0,
      "outputs": [
        {
          "output_type": "stream",
          "text": [
            "1000\n",
            "(1000, 784)\n",
            "1000\n"
          ],
          "name": "stdout"
        }
      ]
    },
    {
      "cell_type": "markdown",
      "metadata": {
        "colab_type": "text",
        "id": "gYA50ktF4FoP"
      },
      "source": [
        "### SVM"
      ]
    },
    {
      "cell_type": "code",
      "metadata": {
        "colab_type": "code",
        "outputId": "ebe9123d-2f44-4fb5-fa07-d45989836807",
        "id": "wXEllqeu4FoP",
        "colab": {
          "base_uri": "https://localhost:8080/",
          "height": 634
        }
      },
      "source": [
        "parameters = {'kernel':('linear', 'poly', 'rbf', 'sigmoid'), 'C':[0.1, 1, 2, 5]}\n",
        "model = GridSearchCV(svm.SVC(), parameters, cv=5, scoring='accuracy')\n",
        "model = model.fit(X_train_nonhog_deskewed, y_train)\n",
        "\n",
        "y_pred = model.predict(X_test_nonhog_deskewed)\n",
        "\n",
        "svc_hog_deskewed_accuracy = accuracy_score(y_test, y_pred)\n",
        "print(model.best_params_)\n",
        "print('Acc=', svc_hog_deskewed_accuracy)\n",
        "print(classification_report(y_test, y_pred))\n",
        "plot_confusion_matrix(model, X_test_nonhog_deskewed, y_test)"
      ],
      "execution_count": 0,
      "outputs": [
        {
          "output_type": "stream",
          "text": [
            "{'C': 5, 'kernel': 'rbf'}\n",
            "Acc= 0.96\n",
            "              precision    recall  f1-score   support\n",
            "\n",
            "           0       1.00      1.00      1.00        17\n",
            "           1       1.00      1.00      1.00        28\n",
            "           2       0.93      0.81      0.87        16\n",
            "           3       0.94      1.00      0.97        16\n",
            "           4       1.00      0.93      0.96        28\n",
            "           5       1.00      0.90      0.95        20\n",
            "           6       1.00      1.00      1.00        20\n",
            "           7       0.92      1.00      0.96        24\n",
            "           8       0.83      1.00      0.91        10\n",
            "           9       0.91      0.95      0.93        21\n",
            "\n",
            "    accuracy                           0.96       200\n",
            "   macro avg       0.95      0.96      0.95       200\n",
            "weighted avg       0.96      0.96      0.96       200\n",
            "\n"
          ],
          "name": "stdout"
        },
        {
          "output_type": "execute_result",
          "data": {
            "text/plain": [
              "<sklearn.metrics._plot.confusion_matrix.ConfusionMatrixDisplay at 0x7f3672289fd0>"
            ]
          },
          "metadata": {
            "tags": []
          },
          "execution_count": 25
        },
        {
          "output_type": "display_data",
          "data": {
            "image/png": "[encoded data removed]",
            "text/plain": [
              "<Figure size 432x288 with 2 Axes>"
            ]
          },
          "metadata": {
            "tags": []
          }
        }
      ]
    },
    {
      "cell_type": "markdown",
      "metadata": {
        "colab_type": "text",
        "id": "F4dHR6eb4FoR"
      },
      "source": [
        "### Random Forest Classifier"
      ]
    },
    {
      "cell_type": "code",
      "metadata": {
        "colab_type": "code",
        "outputId": "1d7684c7-c3a0-444e-ffa0-8e20f2ab94ab",
        "id": "oskz3Rc-4FoR",
        "colab": {
          "base_uri": "https://localhost:8080/",
          "height": 634
        }
      },
      "source": [
        "parameters = {'max_depth':[5, 10, 50], 'max_leaf_nodes': [2,3,None], 'min_samples_leaf': [1, 2, 4, 6]}\n",
        "model = GridSearchCV(RandomForestClassifier(), parameters, cv=5, scoring='accuracy')\n",
        "model = model.fit(X_train_nonhog_deskewed, y_train)\n",
        "\n",
        "y_pred = model.predict(X_test_nonhog_deskewed)\n",
        "\n",
        "rf_hog_accuracy = accuracy_score(y_test, y_pred)\n",
        "print(model.best_params_)\n",
        "print('Acc=', rf_hog_accuracy)\n",
        "print(classification_report(y_test, y_pred))\n",
        "plot_confusion_matrix(model, X_test_nonhog_deskewed, y_test)"
      ],
      "execution_count": 0,
      "outputs": [
        {
          "output_type": "stream",
          "text": [
            "{'max_depth': 10, 'max_leaf_nodes': None, 'min_samples_leaf': 2}\n",
            "Acc= 0.925\n",
            "              precision    recall  f1-score   support\n",
            "\n",
            "           0       1.00      1.00      1.00        17\n",
            "           1       1.00      1.00      1.00        28\n",
            "           2       0.81      0.81      0.81        16\n",
            "           3       0.88      0.88      0.88        16\n",
            "           4       0.80      1.00      0.89        28\n",
            "           5       0.95      0.90      0.92        20\n",
            "           6       1.00      0.95      0.97        20\n",
            "           7       0.92      1.00      0.96        24\n",
            "           8       1.00      0.90      0.95        10\n",
            "           9       1.00      0.71      0.83        21\n",
            "\n",
            "    accuracy                           0.93       200\n",
            "   macro avg       0.94      0.92      0.92       200\n",
            "weighted avg       0.93      0.93      0.92       200\n",
            "\n"
          ],
          "name": "stdout"
        },
        {
          "output_type": "execute_result",
          "data": {
            "text/plain": [
              "<sklearn.metrics._plot.confusion_matrix.ConfusionMatrixDisplay at 0x7f3667e96ba8>"
            ]
          },
          "metadata": {
            "tags": []
          },
          "execution_count": 26
        },
        {
          "output_type": "display_data",
          "data": {
            "image/png": "[encoded data removed]",
            "text/plain": [
              "<Figure size 432x288 with 2 Axes>"
            ]
          },
          "metadata": {
            "tags": []
          }
        }
      ]
    },
    {
      "cell_type": "markdown",
      "metadata": {
        "colab_type": "text",
        "id": "iq7X7OAw4FoT"
      },
      "source": [
        "### Gradient Boosting Classifier"
      ]
    },
    {
      "cell_type": "code",
      "metadata": {
        "colab_type": "code",
        "outputId": "4b9394bf-01c9-4625-b1f9-a8ac8179c42b",
        "id": "7ouBCsSe4FoU",
        "colab": {
          "base_uri": "https://localhost:8080/",
          "height": 634
        }
      },
      "source": [
        "parameters = {'min_child_weight': [0.1, 1, 5], 'max_depth': [3, 4, 5]}\n",
        "model = GridSearchCV(XGBClassifier(), parameters, cv=5, scoring='accuracy')\n",
        "model = model.fit(X_train_nonhog_deskewed, y_train)\n",
        "\n",
        "y_pred = model.predict(X_test_nonhog_deskewed)\n",
        "\n",
        "xgbc_hog_accuracy = accuracy_score(y_test, y_pred)\n",
        "print(model.best_params_)\n",
        "print('Acc=', xgbc_hog_accuracy)\n",
        "print(classification_report(y_test, y_pred))\n",
        "plot_confusion_matrix(model, X_test_nonhog_deskewed, y_test)"
      ],
      "execution_count": 0,
      "outputs": [
        {
          "output_type": "stream",
          "text": [
            "{'max_depth': 4, 'min_child_weight': 1}\n",
            "Acc= 0.9\n",
            "              precision    recall  f1-score   support\n",
            "\n",
            "           0       0.89      1.00      0.94        17\n",
            "           1       1.00      1.00      1.00        28\n",
            "           2       0.71      0.62      0.67        16\n",
            "           3       0.82      0.88      0.85        16\n",
            "           4       0.84      0.96      0.90        28\n",
            "           5       1.00      0.90      0.95        20\n",
            "           6       0.86      0.95      0.90        20\n",
            "           7       0.91      0.88      0.89        24\n",
            "           8       0.90      0.90      0.90        10\n",
            "           9       1.00      0.81      0.89        21\n",
            "\n",
            "    accuracy                           0.90       200\n",
            "   macro avg       0.90      0.89      0.89       200\n",
            "weighted avg       0.90      0.90      0.90       200\n",
            "\n"
          ],
          "name": "stdout"
        },
        {
          "output_type": "execute_result",
          "data": {
            "text/plain": [
              "<sklearn.metrics._plot.confusion_matrix.ConfusionMatrixDisplay at 0x7f367236e358>"
            ]
          },
          "metadata": {
            "tags": []
          },
          "execution_count": 27
        },
        {
          "output_type": "display_data",
          "data": {
            "image/png": "[encoded data removed]",
            "text/plain": [
              "<Figure size 432x288 with 2 Axes>"
            ]
          },
          "metadata": {
            "tags": []
          }
        }
      ]
    },
    {
      "cell_type": "markdown",
      "metadata": {
        "id": "cuwol9nfIeD-",
        "colab_type": "text"
      },
      "source": [
        "# 4. Wykorzystanie innego deskryptora - skimage.feature.daisy \n"
      ]
    },
    {
      "cell_type": "code",
      "metadata": {
        "id": "aRO6nb6hIghW",
        "colab_type": "code",
        "colab": {}
      },
      "source": [
        "from skimage.feature import daisy\n",
        "\n",
        "X_train_daisy_data = np.array([np.ravel(daisy(im, step=5, radius=10, rings = 3, histograms = 4)) for im in X_train])\n",
        "X_test_daisy_data = np.array([np.ravel(daisy(im, step=5, radius=10, rings = 3, histograms = 4)) for im in X_test])"
      ],
      "execution_count": 0,
      "outputs": []
    },
    {
      "cell_type": "markdown",
      "metadata": {
        "colab_type": "text",
        "id": "wbZWyfaYJsKP"
      },
      "source": [
        "## Trening bez wyrównania danych z innym deskryptorem"
      ]
    },
    {
      "cell_type": "markdown",
      "metadata": {
        "colab_type": "text",
        "id": "_OlCQVkPJsK8"
      },
      "source": [
        "### SVM"
      ]
    },
    {
      "cell_type": "code",
      "metadata": {
        "colab_type": "code",
        "outputId": "e70d9c01-dd4b-42c6-a598-e9b87620cd08",
        "id": "1-A1zRaYJsLC",
        "colab": {
          "base_uri": "https://localhost:8080/",
          "height": 634
        }
      },
      "source": [
        "parameters = {'kernel':('linear', 'poly', 'rbf', 'sigmoid'), 'C':[0.1, 1, 2, 5]}\n",
        "model = GridSearchCV(svm.SVC(), parameters, cv=5, scoring='accuracy')\n",
        "model = model.fit(X_train_daisy_data, y_train)\n",
        "\n",
        "y_pred = model.predict(X_test_daisy_data)\n",
        "svc_hog_accuracy = accuracy_score(y_test, y_pred)\n",
        "print(model.best_params_)\n",
        "print('Acc=', svc_hog_accuracy)\n",
        "print(classification_report(y_test, y_pred))\n",
        "plot_confusion_matrix(model, X_test_daisy_data, y_test)"
      ],
      "execution_count": 0,
      "outputs": [
        {
          "output_type": "stream",
          "text": [
            "{'C': 5, 'kernel': 'rbf'}\n",
            "Acc= 0.975\n",
            "              precision    recall  f1-score   support\n",
            "\n",
            "           0       1.00      1.00      1.00        17\n",
            "           1       1.00      1.00      1.00        28\n",
            "           2       1.00      0.88      0.93        16\n",
            "           3       1.00      1.00      1.00        16\n",
            "           4       1.00      0.93      0.96        28\n",
            "           5       1.00      1.00      1.00        20\n",
            "           6       1.00      1.00      1.00        20\n",
            "           7       0.92      1.00      0.96        24\n",
            "           8       0.91      1.00      0.95        10\n",
            "           9       0.91      0.95      0.93        21\n",
            "\n",
            "    accuracy                           0.97       200\n",
            "   macro avg       0.97      0.98      0.97       200\n",
            "weighted avg       0.98      0.97      0.97       200\n",
            "\n"
          ],
          "name": "stdout"
        },
        {
          "output_type": "execute_result",
          "data": {
            "text/plain": [
              "<sklearn.metrics._plot.confusion_matrix.ConfusionMatrixDisplay at 0x7f367b621940>"
            ]
          },
          "metadata": {
            "tags": []
          },
          "execution_count": 29
        },
        {
          "output_type": "display_data",
          "data": {
            "image/png": "[encoded data removed]",
            "text/plain": [
              "<Figure size 432x288 with 2 Axes>"
            ]
          },
          "metadata": {
            "tags": []
          }
        }
      ]
    },
    {
      "cell_type": "markdown",
      "metadata": {
        "colab_type": "text",
        "id": "JH2-VTUOJsLN"
      },
      "source": [
        "### Random Forest Classifier"
      ]
    },
    {
      "cell_type": "code",
      "metadata": {
        "colab_type": "code",
        "outputId": "636b4857-9edd-4c86-a9a5-be9223fe92ae",
        "id": "SJ2_1OJ3JsLQ",
        "colab": {
          "base_uri": "https://localhost:8080/",
          "height": 634
        }
      },
      "source": [
        "parameters = {'max_depth':[5, 10, 50], 'max_leaf_nodes': [2,3,None], 'min_samples_leaf': [1, 2, 4, 6]}\n",
        "model = GridSearchCV(RandomForestClassifier(), parameters, cv=5, scoring='accuracy')\n",
        "model = model.fit(X_train_daisy_data, y_train)\n",
        "\n",
        "y_pred = model.predict(X_test_daisy_data)\n",
        "\n",
        "rf_hog_accuracy = accuracy_score(y_test, y_pred)\n",
        "print(model.best_params_)\n",
        "print('Acc=', rf_hog_accuracy)\n",
        "print(classification_report(y_test, y_pred))\n",
        "plot_confusion_matrix(model, X_test_daisy_data, y_test)"
      ],
      "execution_count": 0,
      "outputs": [
        {
          "output_type": "stream",
          "text": [
            "{'max_depth': 50, 'max_leaf_nodes': None, 'min_samples_leaf': 1}\n",
            "Acc= 0.94\n",
            "              precision    recall  f1-score   support\n",
            "\n",
            "           0       1.00      1.00      1.00        17\n",
            "           1       1.00      1.00      1.00        28\n",
            "           2       0.87      0.81      0.84        16\n",
            "           3       0.93      0.88      0.90        16\n",
            "           4       0.93      0.89      0.91        28\n",
            "           5       0.95      1.00      0.98        20\n",
            "           6       0.95      1.00      0.98        20\n",
            "           7       0.96      0.96      0.96        24\n",
            "           8       0.91      1.00      0.95        10\n",
            "           9       0.86      0.86      0.86        21\n",
            "\n",
            "    accuracy                           0.94       200\n",
            "   macro avg       0.94      0.94      0.94       200\n",
            "weighted avg       0.94      0.94      0.94       200\n",
            "\n"
          ],
          "name": "stdout"
        },
        {
          "output_type": "execute_result",
          "data": {
            "text/plain": [
              "<sklearn.metrics._plot.confusion_matrix.ConfusionMatrixDisplay at 0x7f366f01dcf8>"
            ]
          },
          "metadata": {
            "tags": []
          },
          "execution_count": 30
        },
        {
          "output_type": "display_data",
          "data": {
            "image/png": "[encoded data removed]",
            "text/plain": [
              "<Figure size 432x288 with 2 Axes>"
            ]
          },
          "metadata": {
            "tags": []
          }
        }
      ]
    },
    {
      "cell_type": "markdown",
      "metadata": {
        "colab_type": "text",
        "id": "Z5SFQ-k2JsLZ"
      },
      "source": [
        "### Gradient Boosting"
      ]
    },
    {
      "cell_type": "code",
      "metadata": {
        "colab_type": "code",
        "id": "85iMJX8oJsLd",
        "outputId": "9b823597-fb63-4d9e-e5de-7e4920f5d796",
        "colab": {
          "base_uri": "https://localhost:8080/",
          "height": 603
        }
      },
      "source": [
        "parameters = {'min_child_weight': [0.1, 1, 5], 'max_depth': [3, 4, 5]}\n",
        "model = GridSearchCV(XGBClassifier(), parameters, cv=5, scoring='accuracy')\n",
        "model = model.fit(X_train_daisy_data, y_train)\n",
        "\n",
        "y_pred = model.predict(X_test_daisy_data)\n",
        "\n",
        "xgbc_hog_accuracy = accuracy_score(y_test, y_pred)\n",
        "print(model.best_params_)\n",
        "print('Acc=', xgbc_hog_accuracy)\n",
        "print(classification_report(y_test, y_pred))\n",
        "plot_confusion_matrix(model, X_test_daisy_data, y_test)"
      ],
      "execution_count": 0,
      "outputs": [
        {
          "output_type": "stream",
          "text": [
            "{'max_depth': 4, 'min_child_weight': 0.1}\n",
            "Acc= 0.915\n",
            "              precision    recall  f1-score   support\n",
            "\n",
            "           0       0.94      1.00      0.97        17\n",
            "           1       1.00      1.00      1.00        28\n",
            "           2       0.92      0.69      0.79        16\n",
            "           3       0.94      1.00      0.97        16\n",
            "           4       0.86      0.86      0.86        28\n",
            "           5       1.00      0.90      0.95        20\n",
            "           6       0.83      0.95      0.88        20\n",
            "           7       0.92      0.96      0.94        24\n",
            "           8       0.77      1.00      0.87        10\n",
            "           9       0.94      0.81      0.87        21\n",
            "\n",
            "    accuracy                           0.92       200\n",
            "   macro avg       0.91      0.92      0.91       200\n",
            "weighted avg       0.92      0.92      0.91       200\n",
            "\n"
          ],
          "name": "stdout"
        },
        {
          "output_type": "execute_result",
          "data": {
            "text/plain": [
              "<sklearn.metrics._plot.confusion_matrix.ConfusionMatrixDisplay at 0x7f3665cfa0b8>"
            ]
          },
          "metadata": {
            "tags": []
          },
          "execution_count": 32
        },
        {
          "output_type": "display_data",
          "data": {
            "image/png": "[encoded data removed]",
            "text/plain": [
              "<Figure size 432x288 with 2 Axes>"
            ]
          },
          "metadata": {
            "tags": []
          }
        }
      ]
    },
    {
      "cell_type": "markdown",
      "metadata": {
        "colab_type": "text",
        "id": "pp3SjDLtJsL2"
      },
      "source": [
        "## Trening dla danych wyrównanych\n",
        "\n"
      ]
    },
    {
      "cell_type": "code",
      "metadata": {
        "id": "CN6pbKN0Kov6",
        "colab_type": "code",
        "colab": {}
      },
      "source": [
        "X_train_daisy_data_deskewed = np.array([np.ravel(daisy(im, step=5, radius=10, rings = 3, histograms = 4)) for im in X_train_deskewed])\n",
        "X_test_daisy_data_deskewed = np.array([np.ravel(daisy(im, step=5, radius=10, rings = 3, histograms = 4)) for im in X_test_deskewed])"
      ],
      "execution_count": 0,
      "outputs": []
    },
    {
      "cell_type": "markdown",
      "metadata": {
        "colab_type": "text",
        "id": "l5Dhx3ydJsMF"
      },
      "source": [
        "### SVM"
      ]
    },
    {
      "cell_type": "code",
      "metadata": {
        "colab_type": "code",
        "id": "qJ-shP-nJsMH",
        "outputId": "8a6153f4-3381-420f-b2d1-ba3a0b8259d1",
        "colab": {
          "base_uri": "https://localhost:8080/",
          "height": 603
        }
      },
      "source": [
        "parameters = {'kernel':('linear', 'poly', 'rbf', 'sigmoid'), 'C':[0.1, 1, 2, 5]}\n",
        "model = GridSearchCV(svm.SVC(), parameters, cv=5, scoring='accuracy')\n",
        "model = model.fit(X_train_daisy_data_deskewed, y_train)\n",
        "\n",
        "y_pred = model.predict(X_test_daisy_data_deskewed)\n",
        "\n",
        "svc_hog_deskewed_accuracy = accuracy_score(y_test, y_pred)\n",
        "print(model.best_params_)\n",
        "print('Acc=', svc_hog_deskewed_accuracy)\n",
        "print(classification_report(y_test, y_pred))\n",
        "plot_confusion_matrix(model, X_test_daisy_data_deskewed, y_test)"
      ],
      "execution_count": 0,
      "outputs": [
        {
          "output_type": "stream",
          "text": [
            "{'C': 5, 'kernel': 'rbf'}\n",
            "Acc= 0.975\n",
            "              precision    recall  f1-score   support\n",
            "\n",
            "           0       0.94      1.00      0.97        17\n",
            "           1       1.00      1.00      1.00        28\n",
            "           2       0.94      0.94      0.94        16\n",
            "           3       1.00      0.94      0.97        16\n",
            "           4       1.00      0.96      0.98        28\n",
            "           5       1.00      1.00      1.00        20\n",
            "           6       0.95      1.00      0.98        20\n",
            "           7       1.00      1.00      1.00        24\n",
            "           8       0.91      1.00      0.95        10\n",
            "           9       0.95      0.90      0.93        21\n",
            "\n",
            "    accuracy                           0.97       200\n",
            "   macro avg       0.97      0.97      0.97       200\n",
            "weighted avg       0.98      0.97      0.97       200\n",
            "\n"
          ],
          "name": "stdout"
        },
        {
          "output_type": "execute_result",
          "data": {
            "text/plain": [
              "<sklearn.metrics._plot.confusion_matrix.ConfusionMatrixDisplay at 0x7f3667fb6048>"
            ]
          },
          "metadata": {
            "tags": []
          },
          "execution_count": 36
        },
        {
          "output_type": "display_data",
          "data": {
            "image/png": "[encoded data removed]",
            "text/plain": [
              "<Figure size 432x288 with 2 Axes>"
            ]
          },
          "metadata": {
            "tags": []
          }
        }
      ]
    },
    {
      "cell_type": "markdown",
      "metadata": {
        "colab_type": "text",
        "id": "RGvb92GKJsMQ"
      },
      "source": [
        "### Random Forest Classifier"
      ]
    },
    {
      "cell_type": "code",
      "metadata": {
        "colab_type": "code",
        "id": "GSpdNEafJsMT",
        "outputId": "3388c9ef-9149-462e-8414-d68ed1858c71",
        "colab": {
          "base_uri": "https://localhost:8080/",
          "height": 603
        }
      },
      "source": [
        "parameters = {'max_depth':[5, 10, 50], 'max_leaf_nodes': [2,3,None], 'min_samples_leaf': [1, 2, 4, 6]}\n",
        "model = GridSearchCV(RandomForestClassifier(), parameters, cv=5, scoring='accuracy')\n",
        "model = model.fit(X_train_daisy_data_deskewed, y_train)\n",
        "\n",
        "y_pred = model.predict(X_test_daisy_data_deskewed)\n",
        "\n",
        "rf_hog_accuracy = accuracy_score(y_test, y_pred)\n",
        "print(model.best_params_)\n",
        "print('Acc=', rf_hog_accuracy)\n",
        "print(classification_report(y_test, y_pred))\n",
        "plot_confusion_matrix(model, X_test_daisy_data_deskewed, y_test)"
      ],
      "execution_count": 0,
      "outputs": [
        {
          "output_type": "stream",
          "text": [
            "{'max_depth': 10, 'max_leaf_nodes': None, 'min_samples_leaf': 2}\n",
            "Acc= 0.935\n",
            "              precision    recall  f1-score   support\n",
            "\n",
            "           0       1.00      1.00      1.00        17\n",
            "           1       1.00      1.00      1.00        28\n",
            "           2       0.86      0.75      0.80        16\n",
            "           3       0.93      0.88      0.90        16\n",
            "           4       0.93      0.93      0.93        28\n",
            "           5       0.95      0.95      0.95        20\n",
            "           6       0.87      1.00      0.93        20\n",
            "           7       0.96      0.92      0.94        24\n",
            "           8       0.91      1.00      0.95        10\n",
            "           9       0.90      0.90      0.90        21\n",
            "\n",
            "    accuracy                           0.94       200\n",
            "   macro avg       0.93      0.93      0.93       200\n",
            "weighted avg       0.94      0.94      0.93       200\n",
            "\n"
          ],
          "name": "stdout"
        },
        {
          "output_type": "execute_result",
          "data": {
            "text/plain": [
              "<sklearn.metrics._plot.confusion_matrix.ConfusionMatrixDisplay at 0x7f367353cac8>"
            ]
          },
          "metadata": {
            "tags": []
          },
          "execution_count": 37
        },
        {
          "output_type": "display_data",
          "data": {
            "image/png": "[encoded data removed]",
            "text/plain": [
              "<Figure size 432x288 with 2 Axes>"
            ]
          },
          "metadata": {
            "tags": []
          }
        }
      ]
    },
    {
      "cell_type": "markdown",
      "metadata": {
        "colab_type": "text",
        "id": "j-ugtRbRJsMZ"
      },
      "source": [
        "### Gradient Boosting Classifier"
      ]
    },
    {
      "cell_type": "code",
      "metadata": {
        "colab_type": "code",
        "id": "SzWOfC0oJsMb",
        "outputId": "46b49e59-a44a-4617-967a-3abb0fba923c",
        "colab": {
          "base_uri": "https://localhost:8080/",
          "height": 603
        }
      },
      "source": [
        "parameters = {'min_child_weight': [0.1, 1, 5], 'max_depth': [3, 4, 5]}\n",
        "model = GridSearchCV(XGBClassifier(), parameters, cv=5, scoring='accuracy')\n",
        "model = model.fit(X_train_daisy_data_deskewed, y_train)\n",
        "\n",
        "y_pred = model.predict(X_test_daisy_data_deskewed)\n",
        "\n",
        "xgbc_hog_accuracy = accuracy_score(y_test, y_pred)\n",
        "print(model.best_params_)\n",
        "print('Acc=', xgbc_hog_accuracy)\n",
        "print(classification_report(y_test, y_pred))\n",
        "plot_confusion_matrix(model, X_test_daisy_data_deskewed, y_test)"
      ],
      "execution_count": 0,
      "outputs": [
        {
          "output_type": "stream",
          "text": [
            "{'max_depth': 5, 'min_child_weight': 5}\n",
            "Acc= 0.96\n",
            "              precision    recall  f1-score   support\n",
            "\n",
            "           0       1.00      1.00      1.00        17\n",
            "           1       1.00      1.00      1.00        28\n",
            "           2       0.94      1.00      0.97        16\n",
            "           3       0.94      0.94      0.94        16\n",
            "           4       1.00      0.93      0.96        28\n",
            "           5       1.00      0.90      0.95        20\n",
            "           6       0.91      1.00      0.95        20\n",
            "           7       0.96      0.96      0.96        24\n",
            "           8       1.00      1.00      1.00        10\n",
            "           9       0.86      0.90      0.88        21\n",
            "\n",
            "    accuracy                           0.96       200\n",
            "   macro avg       0.96      0.96      0.96       200\n",
            "weighted avg       0.96      0.96      0.96       200\n",
            "\n"
          ],
          "name": "stdout"
        },
        {
          "output_type": "execute_result",
          "data": {
            "text/plain": [
              "<sklearn.metrics._plot.confusion_matrix.ConfusionMatrixDisplay at 0x7f3671197400>"
            ]
          },
          "metadata": {
            "tags": []
          },
          "execution_count": 38
        },
        {
          "output_type": "display_data",
          "data": {
            "image/png": "[encoded data removed]",
            "text/plain": [
              "<Figure size 432x288 with 2 Axes>"
            ]
          },
          "metadata": {
            "tags": []
          }
        }
      ]
    },
    {
      "cell_type": "markdown",
      "metadata": {
        "id": "1MO4GB4gMhy5",
        "colab_type": "text"
      },
      "source": [
        "# 5. Wnioski"
      ]
    },
    {
      "cell_type": "markdown",
      "metadata": {
        "id": "Y2sWuuThMmMH",
        "colab_type": "text"
      },
      "source": [
        "Po przeprowadzeniu testów na kilku klasyfikatorach otrzymaliśmy następnujące zależności:\n",
        "\n",
        "Spośród czterech klasyfikatorów, tj. Support Vector Machine Classifier - SVC, Random Forest Clasiffier - RFC, XGradient Boosting Classifier oraz sekwencyjnej sieci neuronowej najgorszym okazał się w każdym wypadku XGradient Boosting, natomiast najlepszym SVC, natomiast z punktu widzenia danych nalepsze wyniki udało nam się uzyskać dla danych opisanych wybranym przez nas deskryptorem - DAISY.\n",
        "\n",
        "Z naszej obserwacji dane surowe były gorzej klasyfikowane niż te opisane przez deskryptor.\n",
        "\n",
        "Dodatkowo wyrównanie danych miało wpływ na wyniki klasyfikacji doprowadzając do różnic nawet o kilka punktów procentowych.\n",
        "\n",
        "## Wyniki\n",
        "\n",
        "Przedstawione poniżej wyniki otrzymaliśmy wykorzystując na poszczególnych modelach zbiór treningowy o wielkości 1000 elementów oraz zbiór testowy o wielkości 200 elementów. Oba zbiory zostały przygotowane w ten sposób, że zawierają równą liczbę próbek z każdej klasy.\n",
        "\n",
        "### Zad 2 - deskryptor HOG\n",
        "\n",
        "#### SVC\n",
        "\n",
        "- bez wyrównania: 94%\n",
        "- z wyrównaniem: 96.5%\n",
        "\n",
        "#### Random Forest\n",
        "\n",
        "- bez wyrównania: 92.5%\n",
        "- z wyrównaniem: 94.5%\n",
        "\n",
        "#### XGBC\n",
        "\n",
        "- bez wyrównania: 90.5%\n",
        "- z wyrównaniem: 93.5%\n",
        "\n",
        "#### sieć neuronowa\n",
        "\n",
        "- bez wyrównania: 91.5%\n",
        "- z wyrównaniem: 95%\n",
        "\n",
        "### Zad 3 - dane surowe\n",
        "\n",
        "#### SVC\n",
        "\n",
        "- bez wyrównania: 95%\n",
        "- z wyrównaniem: 96%\n",
        "\n",
        "#### Random Forest\n",
        "\n",
        "- bez wyrównania: 89.5%\n",
        "- z wyrównaniem: 92.5%\n",
        "\n",
        "#### XGBC\n",
        "\n",
        "- bez wyrównania: 86%\n",
        "- z wyrównaniem: 90%\n",
        "\n",
        "### Zad 4 - deskryptor DAISY\n",
        "\n",
        "#### SVC\n",
        "\n",
        "- bez wyrównania: 97.55%\n",
        "- z wyrównaniem: 97.5%\n",
        "\n",
        "#### Random Forest\n",
        "\n",
        "- bez wyrównania: 94%\n",
        "- z wyrównaniem: 93.5%\n",
        "\n",
        "#### XGBC\n",
        "\n",
        "- bez wyrównania: 91.5%\n",
        "- z wyrównaniem: 96%\n",
        "\n"
      ]
    }
  ]
}